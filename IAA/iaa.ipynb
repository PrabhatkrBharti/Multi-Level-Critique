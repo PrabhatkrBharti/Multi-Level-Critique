{
 "cells": [
  {
   "cell_type": "markdown",
   "metadata": {},
   "source": [
    "### DEPENDENCIES"
   ]
  },
  {
   "cell_type": "code",
   "execution_count": 22,
   "metadata": {},
   "outputs": [],
   "source": [
    "# %pip install krippendorff\n",
    "# %pip install sklearn\n",
    "# %pip install statsmodels"
   ]
  },
  {
   "cell_type": "markdown",
   "metadata": {},
   "source": [
    "### LIBRARIES"
   ]
  },
  {
   "cell_type": "code",
   "execution_count": 23,
   "metadata": {},
   "outputs": [],
   "source": [
    "import pandas as pd\n",
    "import numpy as np"
   ]
  },
  {
   "cell_type": "code",
   "execution_count": 24,
   "metadata": {},
   "outputs": [
    {
     "data": {
      "text/html": [
       "<div>\n",
       "<style scoped>\n",
       "    .dataframe tbody tr th:only-of-type {\n",
       "        vertical-align: middle;\n",
       "    }\n",
       "\n",
       "    .dataframe tbody tr th {\n",
       "        vertical-align: top;\n",
       "    }\n",
       "\n",
       "    .dataframe thead th {\n",
       "        text-align: right;\n",
       "    }\n",
       "</style>\n",
       "<table border=\"1\" class=\"dataframe\">\n",
       "  <thead>\n",
       "    <tr style=\"text-align: right;\">\n",
       "      <th></th>\n",
       "      <th>Raw Sentence</th>\n",
       "      <th>N/C_ann1</th>\n",
       "      <th>Tone_ann1</th>\n",
       "      <th>N/C_ann2</th>\n",
       "      <th>Tone_ann2</th>\n",
       "      <th>Unnamed: 6</th>\n",
       "    </tr>\n",
       "  </thead>\n",
       "  <tbody>\n",
       "    <tr>\n",
       "      <th>0</th>\n",
       "      <td>Please refer to the paper Discovering structur...</td>\n",
       "      <td>4</td>\n",
       "      <td>5</td>\n",
       "      <td>4</td>\n",
       "      <td>5</td>\n",
       "      <td>0</td>\n",
       "    </tr>\n",
       "    <tr>\n",
       "      <th>1</th>\n",
       "      <td>One issue of the use of cross task transfer pe...</td>\n",
       "      <td>4</td>\n",
       "      <td>4</td>\n",
       "      <td>4</td>\n",
       "      <td>4</td>\n",
       "      <td>0</td>\n",
       "    </tr>\n",
       "    <tr>\n",
       "      <th>2</th>\n",
       "      <td>Learning incoherent sparse and low rank patter...</td>\n",
       "      <td>3</td>\n",
       "      <td>3</td>\n",
       "      <td>3</td>\n",
       "      <td>3</td>\n",
       "      <td>0</td>\n",
       "    </tr>\n",
       "    <tr>\n",
       "      <th>3</th>\n",
       "      <td>However , a disadvantage of the proposed metho...</td>\n",
       "      <td>4</td>\n",
       "      <td>3</td>\n",
       "      <td>4</td>\n",
       "      <td>3</td>\n",
       "      <td>0</td>\n",
       "    </tr>\n",
       "    <tr>\n",
       "      <th>4</th>\n",
       "      <td>- Comparison with existing clustered MTL metho...</td>\n",
       "      <td>4</td>\n",
       "      <td>3</td>\n",
       "      <td>4</td>\n",
       "      <td>3</td>\n",
       "      <td>0</td>\n",
       "    </tr>\n",
       "  </tbody>\n",
       "</table>\n",
       "</div>"
      ],
      "text/plain": [
       "                                        Raw Sentence  N/C_ann1  Tone_ann1  \\\n",
       "0  Please refer to the paper Discovering structur...         4          5   \n",
       "1  One issue of the use of cross task transfer pe...         4          4   \n",
       "2  Learning incoherent sparse and low rank patter...         3          3   \n",
       "3  However , a disadvantage of the proposed metho...         4          3   \n",
       "4  - Comparison with existing clustered MTL metho...         4          3   \n",
       "\n",
       "   N/C_ann2  Tone_ann2  Unnamed: 6  \n",
       "0         4          5           0  \n",
       "1         4          4           0  \n",
       "2         3          3           0  \n",
       "3         4          3           0  \n",
       "4         4          3           0  "
      ]
     },
     "execution_count": 24,
     "metadata": {},
     "output_type": "execute_result"
    }
   ],
   "source": [
    "annotators_df = pd.read_csv(\"iaa.csv\")\n",
    "annotators_df.drop('Review ID', axis=1, inplace=True)\n",
    "annotators_df.head()"
   ]
  },
  {
   "cell_type": "markdown",
   "metadata": {},
   "source": [
    "## COHEN KAPPA"
   ]
  },
  {
   "cell_type": "code",
   "execution_count": 25,
   "metadata": {},
   "outputs": [
    {
     "data": {
      "text/plain": [
       "(0.8271329098529886, 0.8024150050457598)"
      ]
     },
     "execution_count": 25,
     "metadata": {},
     "output_type": "execute_result"
    }
   ],
   "source": [
    "from sklearn.metrics import cohen_kappa_score\n",
    "\n",
    "cohen_kappa_nc = cohen_kappa_score(annotators_df['N/C_ann1'], annotators_df['N/C_ann2'])\n",
    "cohen_kappa_tone = cohen_kappa_score(annotators_df['Tone_ann1'], annotators_df['Tone_ann2'])\n",
    "cohen_kappa_nc, cohen_kappa_tone"
   ]
  },
  {
   "cell_type": "markdown",
   "metadata": {},
   "source": [
    "## FLEISS KAPPA"
   ]
  },
  {
   "cell_type": "code",
   "execution_count": 26,
   "metadata": {},
   "outputs": [
    {
     "data": {
      "text/plain": [
       "(0.8270076587362237, 0.8022664944788658)"
      ]
     },
     "execution_count": 26,
     "metadata": {},
     "output_type": "execute_result"
    }
   ],
   "source": [
    "from statsmodels.stats.inter_rater import fleiss_kappa, aggregate_raters\n",
    "\n",
    "agg_nc = aggregate_raters(annotators_df[['N/C_ann1', 'N/C_ann2']].to_numpy())\n",
    "agg_tone = aggregate_raters(annotators_df[['Tone_ann1', 'Tone_ann2']].to_numpy())\n",
    "fliess_kappa_nc = fleiss_kappa(agg_nc[0], method='fleiss')\n",
    "fliess_kappa_tone = fleiss_kappa(agg_tone[0], method='fleiss')\n",
    "fliess_kappa_nc, fliess_kappa_tone"
   ]
  },
  {
   "cell_type": "markdown",
   "metadata": {},
   "source": [
    "## KRIPPENDROFF"
   ]
  },
  {
   "cell_type": "code",
   "execution_count": 27,
   "metadata": {},
   "outputs": [
    {
     "data": {
      "text/plain": [
       "(0.8827157941168362, 0.834986716283064)"
      ]
     },
     "execution_count": 27,
     "metadata": {},
     "output_type": "execute_result"
    }
   ],
   "source": [
    "import krippendorff\n",
    "\n",
    "krippendorff_alpha_nc = krippendorff.alpha(annotators_df[['N/C_ann1', 'N/C_ann2']].transpose())\n",
    "krippendorff_alpha_tone = krippendorff.alpha(annotators_df[['Tone_ann1', 'Tone_ann2']].transpose())\n",
    "krippendorff_alpha_nc, krippendorff_alpha_tone"
   ]
  },
  {
   "cell_type": "code",
   "execution_count": 28,
   "metadata": {},
   "outputs": [
    {
     "name": "stdout",
     "output_type": "stream",
     "text": [
      "Cohen Kappa N/C:  0.8271329098529886\n",
      "Cohen Kappa Tone:  0.8024150050457598\n",
      "Fliess Kappa N/C:  0.8270076587362237\n",
      "Fliess Kappa Tone:  0.8022664944788658\n",
      "Krippendorff Alpha N/C:  0.8827157941168362\n",
      "Krippendorff Alpha Tone:  0.834986716283064\n"
     ]
    }
   ],
   "source": [
    "print(\"Cohen Kappa N/C: \", cohen_kappa_nc)\n",
    "print(\"Cohen Kappa Tone: \", cohen_kappa_tone)\n",
    "print(\"Fliess Kappa N/C: \", fliess_kappa_nc)\n",
    "print(\"Fliess Kappa Tone: \", fliess_kappa_tone)\n",
    "print(\"Krippendorff Alpha N/C: \", krippendorff_alpha_nc)\n",
    "print(\"Krippendorff Alpha Tone: \", krippendorff_alpha_tone)"
   ]
  },
  {
   "cell_type": "code",
   "execution_count": null,
   "metadata": {},
   "outputs": [],
   "source": []
  }
 ],
 "metadata": {
  "kernelspec": {
   "display_name": "Python 3",
   "language": "python",
   "name": "python3"
  },
  "language_info": {
   "codemirror_mode": {
    "name": "ipython",
    "version": 3
   },
   "file_extension": ".py",
   "mimetype": "text/x-python",
   "name": "python",
   "nbconvert_exporter": "python",
   "pygments_lexer": "ipython3",
   "version": "3.10.6"
  },
  "orig_nbformat": 4,
  "vscode": {
   "interpreter": {
    "hash": "31f2aee4e71d21fbe5cf8b01ff0e069b9275f58929596ceb00d14d90e3e16cd6"
   }
  }
 },
 "nbformat": 4,
 "nbformat_minor": 2
}
