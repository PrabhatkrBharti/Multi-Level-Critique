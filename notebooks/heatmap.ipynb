{
 "cells": [
  {
   "cell_type": "code",
   "execution_count": 1,
   "id": "bf085c5e",
   "metadata": {
    "execution": {
     "iopub.execute_input": "2022-12-31T06:40:41.696281Z",
     "iopub.status.busy": "2022-12-31T06:40:41.695776Z",
     "iopub.status.idle": "2022-12-31T06:42:08.528999Z",
     "shell.execute_reply": "2022-12-31T06:42:08.527854Z"
    },
    "id": "3AaTEhOEddmU",
    "jupyter": {
     "source_hidden": true
    },
    "outputId": "efd52273-1e42-4e31-e40c-dcdf16ec04af",
    "papermill": {
     "duration": 86.847106,
     "end_time": "2022-12-31T06:42:08.532179",
     "exception": false,
     "start_time": "2022-12-31T06:40:41.685073",
     "status": "completed"
    },
    "tags": []
   },
   "outputs": [
    {
     "name": "stdout",
     "output_type": "stream",
     "text": [
      "Collecting pretty-confusion-matrix\r\n",
      "  Downloading pretty_confusion_matrix-0.1.1-py3-none-any.whl (9.6 kB)\r\n",
      "Collecting flake8<4.0.0,>=3.9.2\r\n",
      "  Downloading flake8-3.9.2-py2.py3-none-any.whl (73 kB)\r\n",
      "\u001b[2K     \u001b[90m━━━━━━━━━━━━━━━━━━━━━━━━━━━━━━━━━━━━━━━\u001b[0m \u001b[32m73.1/73.1 kB\u001b[0m \u001b[31m767.3 kB/s\u001b[0m eta \u001b[36m0:00:00\u001b[0m\r\n",
      "\u001b[?25hRequirement already satisfied: seaborn<0.12.0,>=0.11.2 in /opt/conda/lib/python3.7/site-packages (from pretty-confusion-matrix) (0.11.2)\r\n",
      "Requirement already satisfied: sklearn<0.1,>=0.0 in /opt/conda/lib/python3.7/site-packages (from pretty-confusion-matrix) (0.0)\r\n",
      "Requirement already satisfied: pandas<2.0.0,>=1.3.4 in /opt/conda/lib/python3.7/site-packages (from pretty-confusion-matrix) (1.3.5)\r\n",
      "Collecting black<22.0,>=21.5b0\r\n",
      "  Downloading black-21.12b0-py3-none-any.whl (156 kB)\r\n",
      "\u001b[2K     \u001b[90m━━━━━━━━━━━━━━━━━━━━━━━━━━━━━━━━━━━━━━━\u001b[0m \u001b[32m156.7/156.7 kB\u001b[0m \u001b[31m1.9 MB/s\u001b[0m eta \u001b[36m0:00:00\u001b[0m\r\n",
      "\u001b[?25hRequirement already satisfied: isort<6.0.0,>=5.8.0 in /opt/conda/lib/python3.7/site-packages (from pretty-confusion-matrix) (5.10.1)\r\n",
      "Requirement already satisfied: matplotlib<4.0.0,>=3.5.0 in /opt/conda/lib/python3.7/site-packages (from pretty-confusion-matrix) (3.5.3)\r\n",
      "Requirement already satisfied: numpy<2.0.0,>=1.21.4 in /opt/conda/lib/python3.7/site-packages (from pretty-confusion-matrix) (1.21.6)\r\n",
      "Collecting pre-commit<3.0.0,>=2.12.1\r\n",
      "  Downloading pre_commit-2.21.0-py2.py3-none-any.whl (201 kB)\r\n",
      "\u001b[2K     \u001b[90m━━━━━━━━━━━━━━━━━━━━━━━━━━━━━━━━━━━━━━━\u001b[0m \u001b[32m201.9/201.9 kB\u001b[0m \u001b[31m6.5 MB/s\u001b[0m eta \u001b[36m0:00:00\u001b[0m\r\n",
      "\u001b[?25hRequirement already satisfied: pathspec<1,>=0.9.0 in /opt/conda/lib/python3.7/site-packages (from black<22.0,>=21.5b0->pretty-confusion-matrix) (0.9.0)\r\n",
      "Requirement already satisfied: typed-ast>=1.4.2 in /opt/conda/lib/python3.7/site-packages (from black<22.0,>=21.5b0->pretty-confusion-matrix) (1.5.4)\r\n",
      "Requirement already satisfied: platformdirs>=2 in /opt/conda/lib/python3.7/site-packages (from black<22.0,>=21.5b0->pretty-confusion-matrix) (2.5.1)\r\n",
      "Requirement already satisfied: typing-extensions>=3.10.0.0 in /opt/conda/lib/python3.7/site-packages (from black<22.0,>=21.5b0->pretty-confusion-matrix) (4.4.0)\r\n",
      "Collecting tomli<2.0.0,>=0.2.6\r\n",
      "  Downloading tomli-1.2.3-py3-none-any.whl (12 kB)\r\n",
      "Requirement already satisfied: click>=7.1.2 in /opt/conda/lib/python3.7/site-packages (from black<22.0,>=21.5b0->pretty-confusion-matrix) (8.0.4)\r\n",
      "Requirement already satisfied: mypy-extensions>=0.4.3 in /opt/conda/lib/python3.7/site-packages (from black<22.0,>=21.5b0->pretty-confusion-matrix) (0.4.3)\r\n",
      "Collecting pyflakes<2.4.0,>=2.3.0\r\n",
      "  Downloading pyflakes-2.3.1-py2.py3-none-any.whl (68 kB)\r\n",
      "\u001b[2K     \u001b[90m━━━━━━━━━━━━━━━━━━━━━━━━━━━━━━━━━━━━━━━━\u001b[0m \u001b[32m68.8/68.8 kB\u001b[0m \u001b[31m5.4 MB/s\u001b[0m eta \u001b[36m0:00:00\u001b[0m\r\n",
      "\u001b[?25hRequirement already satisfied: importlib-metadata in /opt/conda/lib/python3.7/site-packages (from flake8<4.0.0,>=3.9.2->pretty-confusion-matrix) (4.13.0)\r\n",
      "Requirement already satisfied: mccabe<0.7.0,>=0.6.0 in /opt/conda/lib/python3.7/site-packages (from flake8<4.0.0,>=3.9.2->pretty-confusion-matrix) (0.6.1)\r\n",
      "Collecting pycodestyle<2.8.0,>=2.7.0\r\n",
      "  Downloading pycodestyle-2.7.0-py2.py3-none-any.whl (41 kB)\r\n",
      "\u001b[2K     \u001b[90m━━━━━━━━━━━━━━━━━━━━━━━━━━━━━━━━━━━━━━━━\u001b[0m \u001b[32m41.7/41.7 kB\u001b[0m \u001b[31m2.7 MB/s\u001b[0m eta \u001b[36m0:00:00\u001b[0m\r\n",
      "\u001b[?25hRequirement already satisfied: packaging>=20.0 in /opt/conda/lib/python3.7/site-packages (from matplotlib<4.0.0,>=3.5.0->pretty-confusion-matrix) (21.3)\r\n",
      "Requirement already satisfied: kiwisolver>=1.0.1 in /opt/conda/lib/python3.7/site-packages (from matplotlib<4.0.0,>=3.5.0->pretty-confusion-matrix) (1.4.3)\r\n",
      "Requirement already satisfied: fonttools>=4.22.0 in /opt/conda/lib/python3.7/site-packages (from matplotlib<4.0.0,>=3.5.0->pretty-confusion-matrix) (4.33.3)\r\n",
      "Requirement already satisfied: python-dateutil>=2.7 in /opt/conda/lib/python3.7/site-packages (from matplotlib<4.0.0,>=3.5.0->pretty-confusion-matrix) (2.8.2)\r\n",
      "Requirement already satisfied: cycler>=0.10 in /opt/conda/lib/python3.7/site-packages (from matplotlib<4.0.0,>=3.5.0->pretty-confusion-matrix) (0.11.0)\r\n",
      "Requirement already satisfied: pyparsing>=2.2.1 in /opt/conda/lib/python3.7/site-packages (from matplotlib<4.0.0,>=3.5.0->pretty-confusion-matrix) (3.0.9)\r\n",
      "Requirement already satisfied: pillow>=6.2.0 in /opt/conda/lib/python3.7/site-packages (from matplotlib<4.0.0,>=3.5.0->pretty-confusion-matrix) (9.1.1)\r\n",
      "Requirement already satisfied: pytz>=2017.3 in /opt/conda/lib/python3.7/site-packages (from pandas<2.0.0,>=1.3.4->pretty-confusion-matrix) (2022.1)\r\n",
      "Collecting cfgv>=2.0.0\r\n",
      "  Downloading cfgv-3.3.1-py2.py3-none-any.whl (7.3 kB)\r\n",
      "Requirement already satisfied: virtualenv>=20.10.0 in /opt/conda/lib/python3.7/site-packages (from pre-commit<3.0.0,>=2.12.1->pretty-confusion-matrix) (20.15.1)\r\n",
      "Requirement already satisfied: pyyaml>=5.1 in /opt/conda/lib/python3.7/site-packages (from pre-commit<3.0.0,>=2.12.1->pretty-confusion-matrix) (6.0)\r\n",
      "Collecting nodeenv>=0.11.1\r\n",
      "  Downloading nodeenv-1.7.0-py2.py3-none-any.whl (21 kB)\r\n",
      "Collecting identify>=1.0.0\r\n",
      "  Downloading identify-2.5.11-py2.py3-none-any.whl (98 kB)\r\n",
      "\u001b[2K     \u001b[90m━━━━━━━━━━━━━━━━━━━━━━━━━━━━━━━━━━━━━━━━\u001b[0m \u001b[32m98.8/98.8 kB\u001b[0m \u001b[31m7.5 MB/s\u001b[0m eta \u001b[36m0:00:00\u001b[0m\r\n",
      "\u001b[?25hRequirement already satisfied: scipy>=1.0 in /opt/conda/lib/python3.7/site-packages (from seaborn<0.12.0,>=0.11.2->pretty-confusion-matrix) (1.7.3)\r\n",
      "Requirement already satisfied: scikit-learn in /opt/conda/lib/python3.7/site-packages (from sklearn<0.1,>=0.0->pretty-confusion-matrix) (1.0.2)\r\n",
      "Requirement already satisfied: setuptools in /opt/conda/lib/python3.7/site-packages (from nodeenv>=0.11.1->pre-commit<3.0.0,>=2.12.1->pretty-confusion-matrix) (59.8.0)\r\n",
      "Requirement already satisfied: six>=1.5 in /opt/conda/lib/python3.7/site-packages (from python-dateutil>=2.7->matplotlib<4.0.0,>=3.5.0->pretty-confusion-matrix) (1.15.0)\r\n",
      "Requirement already satisfied: filelock<4,>=3.2 in /opt/conda/lib/python3.7/site-packages (from virtualenv>=20.10.0->pre-commit<3.0.0,>=2.12.1->pretty-confusion-matrix) (3.7.1)\r\n",
      "Requirement already satisfied: distlib<1,>=0.3.1 in /opt/conda/lib/python3.7/site-packages (from virtualenv>=20.10.0->pre-commit<3.0.0,>=2.12.1->pretty-confusion-matrix) (0.3.4)\r\n",
      "Requirement already satisfied: zipp>=0.5 in /opt/conda/lib/python3.7/site-packages (from importlib-metadata->flake8<4.0.0,>=3.9.2->pretty-confusion-matrix) (3.8.0)\r\n",
      "Requirement already satisfied: threadpoolctl>=2.0.0 in /opt/conda/lib/python3.7/site-packages (from scikit-learn->sklearn<0.1,>=0.0->pretty-confusion-matrix) (3.1.0)\r\n",
      "Requirement already satisfied: joblib>=0.11 in /opt/conda/lib/python3.7/site-packages (from scikit-learn->sklearn<0.1,>=0.0->pretty-confusion-matrix) (1.0.1)\r\n",
      "Installing collected packages: tomli, pyflakes, pycodestyle, nodeenv, identify, cfgv, flake8, pre-commit, black, pretty-confusion-matrix\r\n",
      "  Attempting uninstall: tomli\r\n",
      "    Found existing installation: tomli 2.0.1\r\n",
      "    Uninstalling tomli-2.0.1:\r\n",
      "      Successfully uninstalled tomli-2.0.1\r\n",
      "  Attempting uninstall: pyflakes\r\n",
      "    Found existing installation: pyflakes 2.4.0\r\n",
      "    Uninstalling pyflakes-2.4.0:\r\n",
      "      Successfully uninstalled pyflakes-2.4.0\r\n",
      "  Attempting uninstall: pycodestyle\r\n",
      "    Found existing installation: pycodestyle 2.8.0\r\n",
      "    Uninstalling pycodestyle-2.8.0:\r\n",
      "      Successfully uninstalled pycodestyle-2.8.0\r\n",
      "  Attempting uninstall: flake8\r\n",
      "    Found existing installation: flake8 4.0.1\r\n",
      "    Uninstalling flake8-4.0.1:\r\n",
      "      Successfully uninstalled flake8-4.0.1\r\n",
      "  Attempting uninstall: black\r\n",
      "    Found existing installation: black 22.6.0\r\n",
      "    Uninstalling black-22.6.0:\r\n",
      "      Successfully uninstalled black-22.6.0\r\n",
      "\u001b[31mERROR: pip's dependency resolver does not currently take into account all the packages that are installed. This behaviour is the source of the following dependency conflicts.\r\n",
      "pytoolconfig 1.2.2 requires tomli>=2.0; python_version < \"3.11\", but you have tomli 1.2.3 which is incompatible.\r\n",
      "autopep8 1.6.0 requires pycodestyle>=2.8.0, but you have pycodestyle 2.7.0 which is incompatible.\r\n",
      "allennlp 2.10.0 requires protobuf==3.20.0, but you have protobuf 3.19.4 which is incompatible.\u001b[0m\u001b[31m\r\n",
      "\u001b[0mSuccessfully installed black-21.12b0 cfgv-3.3.1 flake8-3.9.2 identify-2.5.11 nodeenv-1.7.0 pre-commit-2.21.0 pretty-confusion-matrix-0.1.1 pycodestyle-2.7.0 pyflakes-2.3.1 tomli-1.2.3\r\n",
      "\u001b[33mWARNING: Running pip as the 'root' user can result in broken permissions and conflicting behaviour with the system package manager. It is recommended to use a virtual environment instead: https://pip.pypa.io/warnings/venv\u001b[0m\u001b[33m\r\n",
      "\u001b[0mRequirement already satisfied: transformers in /opt/conda/lib/python3.7/site-packages (4.20.1)\r\n",
      "Requirement already satisfied: tqdm>=4.27 in /opt/conda/lib/python3.7/site-packages (from transformers) (4.64.0)\r\n",
      "Requirement already satisfied: pyyaml>=5.1 in /opt/conda/lib/python3.7/site-packages (from transformers) (6.0)\r\n",
      "Requirement already satisfied: tokenizers!=0.11.3,<0.13,>=0.11.1 in /opt/conda/lib/python3.7/site-packages (from transformers) (0.12.1)\r\n",
      "Requirement already satisfied: regex!=2019.12.17 in /opt/conda/lib/python3.7/site-packages (from transformers) (2021.11.10)\r\n",
      "Requirement already satisfied: numpy>=1.17 in /opt/conda/lib/python3.7/site-packages (from transformers) (1.21.6)\r\n",
      "Requirement already satisfied: packaging>=20.0 in /opt/conda/lib/python3.7/site-packages (from transformers) (21.3)\r\n",
      "Requirement already satisfied: filelock in /opt/conda/lib/python3.7/site-packages (from transformers) (3.7.1)\r\n",
      "Requirement already satisfied: requests in /opt/conda/lib/python3.7/site-packages (from transformers) (2.28.1)\r\n",
      "Requirement already satisfied: importlib-metadata in /opt/conda/lib/python3.7/site-packages (from transformers) (4.13.0)\r\n",
      "Requirement already satisfied: huggingface-hub<1.0,>=0.1.0 in /opt/conda/lib/python3.7/site-packages (from transformers) (0.10.1)\r\n",
      "Requirement already satisfied: typing-extensions>=3.7.4.3 in /opt/conda/lib/python3.7/site-packages (from huggingface-hub<1.0,>=0.1.0->transformers) (4.4.0)\r\n",
      "Requirement already satisfied: pyparsing!=3.0.5,>=2.0.2 in /opt/conda/lib/python3.7/site-packages (from packaging>=20.0->transformers) (3.0.9)\r\n",
      "Requirement already satisfied: zipp>=0.5 in /opt/conda/lib/python3.7/site-packages (from importlib-metadata->transformers) (3.8.0)\r\n",
      "Requirement already satisfied: certifi>=2017.4.17 in /opt/conda/lib/python3.7/site-packages (from requests->transformers) (2022.9.24)\r\n",
      "Requirement already satisfied: charset-normalizer<3,>=2 in /opt/conda/lib/python3.7/site-packages (from requests->transformers) (2.1.0)\r\n",
      "Requirement already satisfied: idna<4,>=2.5 in /opt/conda/lib/python3.7/site-packages (from requests->transformers) (3.3)\r\n",
      "Requirement already satisfied: urllib3<1.27,>=1.21.1 in /opt/conda/lib/python3.7/site-packages (from requests->transformers) (1.26.12)\r\n",
      "\u001b[33mWARNING: Running pip as the 'root' user can result in broken permissions and conflicting behaviour with the system package manager. It is recommended to use a virtual environment instead: https://pip.pypa.io/warnings/venv\u001b[0m\u001b[33m\r\n",
      "\u001b[0mCollecting pytorch-transformers\r\n",
      "  Downloading pytorch_transformers-1.2.0-py3-none-any.whl (176 kB)\r\n",
      "\u001b[2K     \u001b[90m━━━━━━━━━━━━━━━━━━━━━━━━━━━━━━━━━━━━━━━\u001b[0m \u001b[32m176.4/176.4 kB\u001b[0m \u001b[31m1.2 MB/s\u001b[0m eta \u001b[36m0:00:00\u001b[0m\r\n",
      "\u001b[?25hRequirement already satisfied: sacremoses in /opt/conda/lib/python3.7/site-packages (from pytorch-transformers) (0.0.53)\r\n",
      "Requirement already satisfied: requests in /opt/conda/lib/python3.7/site-packages (from pytorch-transformers) (2.28.1)\r\n",
      "Requirement already satisfied: numpy in /opt/conda/lib/python3.7/site-packages (from pytorch-transformers) (1.21.6)\r\n",
      "Requirement already satisfied: tqdm in /opt/conda/lib/python3.7/site-packages (from pytorch-transformers) (4.64.0)\r\n",
      "Requirement already satisfied: sentencepiece in /opt/conda/lib/python3.7/site-packages (from pytorch-transformers) (0.1.97)\r\n",
      "Requirement already satisfied: boto3 in /opt/conda/lib/python3.7/site-packages (from pytorch-transformers) (1.24.93)\r\n",
      "Requirement already satisfied: regex in /opt/conda/lib/python3.7/site-packages (from pytorch-transformers) (2021.11.10)\r\n",
      "Requirement already satisfied: torch>=1.0.0 in /opt/conda/lib/python3.7/site-packages (from pytorch-transformers) (1.11.0+cpu)\r\n",
      "Requirement already satisfied: typing-extensions in /opt/conda/lib/python3.7/site-packages (from torch>=1.0.0->pytorch-transformers) (4.4.0)\r\n",
      "Requirement already satisfied: jmespath<2.0.0,>=0.7.1 in /opt/conda/lib/python3.7/site-packages (from boto3->pytorch-transformers) (1.0.1)\r\n",
      "Requirement already satisfied: s3transfer<0.7.0,>=0.6.0 in /opt/conda/lib/python3.7/site-packages (from boto3->pytorch-transformers) (0.6.0)\r\n",
      "Requirement already satisfied: botocore<1.28.0,>=1.27.93 in /opt/conda/lib/python3.7/site-packages (from boto3->pytorch-transformers) (1.27.93)\r\n",
      "Requirement already satisfied: idna<4,>=2.5 in /opt/conda/lib/python3.7/site-packages (from requests->pytorch-transformers) (3.3)\r\n",
      "Requirement already satisfied: urllib3<1.27,>=1.21.1 in /opt/conda/lib/python3.7/site-packages (from requests->pytorch-transformers) (1.26.12)\r\n",
      "Requirement already satisfied: certifi>=2017.4.17 in /opt/conda/lib/python3.7/site-packages (from requests->pytorch-transformers) (2022.9.24)\r\n",
      "Requirement already satisfied: charset-normalizer<3,>=2 in /opt/conda/lib/python3.7/site-packages (from requests->pytorch-transformers) (2.1.0)\r\n",
      "Requirement already satisfied: click in /opt/conda/lib/python3.7/site-packages (from sacremoses->pytorch-transformers) (8.0.4)\r\n",
      "Requirement already satisfied: six in /opt/conda/lib/python3.7/site-packages (from sacremoses->pytorch-transformers) (1.15.0)\r\n",
      "Requirement already satisfied: joblib in /opt/conda/lib/python3.7/site-packages (from sacremoses->pytorch-transformers) (1.0.1)\r\n",
      "Requirement already satisfied: python-dateutil<3.0.0,>=2.1 in /opt/conda/lib/python3.7/site-packages (from botocore<1.28.0,>=1.27.93->boto3->pytorch-transformers) (2.8.2)\r\n",
      "Requirement already satisfied: importlib-metadata in /opt/conda/lib/python3.7/site-packages (from click->sacremoses->pytorch-transformers) (4.13.0)\r\n",
      "Requirement already satisfied: zipp>=0.5 in /opt/conda/lib/python3.7/site-packages (from importlib-metadata->click->sacremoses->pytorch-transformers) (3.8.0)\r\n",
      "Installing collected packages: pytorch-transformers\r\n",
      "Successfully installed pytorch-transformers-1.2.0\r\n",
      "\u001b[33mWARNING: Running pip as the 'root' user can result in broken permissions and conflicting behaviour with the system package manager. It is recommended to use a virtual environment instead: https://pip.pypa.io/warnings/venv\u001b[0m\u001b[33m\r\n",
      "\u001b[0mCollecting sentence-transformers\r\n",
      "  Downloading sentence-transformers-2.2.2.tar.gz (85 kB)\r\n",
      "\u001b[2K     \u001b[90m━━━━━━━━━━━━━━━━━━━━━━━━━━━━━━━━━━━━━━━\u001b[0m \u001b[32m86.0/86.0 kB\u001b[0m \u001b[31m925.2 kB/s\u001b[0m eta \u001b[36m0:00:00\u001b[0m\r\n",
      "\u001b[?25h  Preparing metadata (setup.py) ... \u001b[?25l-\b \bdone\r\n",
      "\u001b[?25hRequirement already satisfied: transformers<5.0.0,>=4.6.0 in /opt/conda/lib/python3.7/site-packages (from sentence-transformers) (4.20.1)\r\n",
      "Requirement already satisfied: tqdm in /opt/conda/lib/python3.7/site-packages (from sentence-transformers) (4.64.0)\r\n",
      "Requirement already satisfied: torch>=1.6.0 in /opt/conda/lib/python3.7/site-packages (from sentence-transformers) (1.11.0+cpu)\r\n",
      "Requirement already satisfied: torchvision in /opt/conda/lib/python3.7/site-packages (from sentence-transformers) (0.12.0+cpu)\r\n",
      "Requirement already satisfied: numpy in /opt/conda/lib/python3.7/site-packages (from sentence-transformers) (1.21.6)\r\n",
      "Requirement already satisfied: scikit-learn in /opt/conda/lib/python3.7/site-packages (from sentence-transformers) (1.0.2)\r\n",
      "Requirement already satisfied: scipy in /opt/conda/lib/python3.7/site-packages (from sentence-transformers) (1.7.3)\r\n",
      "Requirement already satisfied: nltk in /opt/conda/lib/python3.7/site-packages (from sentence-transformers) (3.7)\r\n",
      "Requirement already satisfied: sentencepiece in /opt/conda/lib/python3.7/site-packages (from sentence-transformers) (0.1.97)\r\n",
      "Requirement already satisfied: huggingface-hub>=0.4.0 in /opt/conda/lib/python3.7/site-packages (from sentence-transformers) (0.10.1)\r\n",
      "Requirement already satisfied: requests in /opt/conda/lib/python3.7/site-packages (from huggingface-hub>=0.4.0->sentence-transformers) (2.28.1)\r\n",
      "Requirement already satisfied: filelock in /opt/conda/lib/python3.7/site-packages (from huggingface-hub>=0.4.0->sentence-transformers) (3.7.1)\r\n",
      "Requirement already satisfied: packaging>=20.9 in /opt/conda/lib/python3.7/site-packages (from huggingface-hub>=0.4.0->sentence-transformers) (21.3)\r\n",
      "Requirement already satisfied: typing-extensions>=3.7.4.3 in /opt/conda/lib/python3.7/site-packages (from huggingface-hub>=0.4.0->sentence-transformers) (4.4.0)\r\n",
      "Requirement already satisfied: importlib-metadata in /opt/conda/lib/python3.7/site-packages (from huggingface-hub>=0.4.0->sentence-transformers) (4.13.0)\r\n",
      "Requirement already satisfied: pyyaml>=5.1 in /opt/conda/lib/python3.7/site-packages (from huggingface-hub>=0.4.0->sentence-transformers) (6.0)\r\n",
      "Requirement already satisfied: regex!=2019.12.17 in /opt/conda/lib/python3.7/site-packages (from transformers<5.0.0,>=4.6.0->sentence-transformers) (2021.11.10)\r\n",
      "Requirement already satisfied: tokenizers!=0.11.3,<0.13,>=0.11.1 in /opt/conda/lib/python3.7/site-packages (from transformers<5.0.0,>=4.6.0->sentence-transformers) (0.12.1)\r\n",
      "Requirement already satisfied: click in /opt/conda/lib/python3.7/site-packages (from nltk->sentence-transformers) (8.0.4)\r\n",
      "Requirement already satisfied: joblib in /opt/conda/lib/python3.7/site-packages (from nltk->sentence-transformers) (1.0.1)\r\n",
      "Requirement already satisfied: threadpoolctl>=2.0.0 in /opt/conda/lib/python3.7/site-packages (from scikit-learn->sentence-transformers) (3.1.0)\r\n",
      "Requirement already satisfied: pillow!=8.3.*,>=5.3.0 in /opt/conda/lib/python3.7/site-packages (from torchvision->sentence-transformers) (9.1.1)\r\n",
      "Requirement already satisfied: pyparsing!=3.0.5,>=2.0.2 in /opt/conda/lib/python3.7/site-packages (from packaging>=20.9->huggingface-hub>=0.4.0->sentence-transformers) (3.0.9)\r\n",
      "Requirement already satisfied: zipp>=0.5 in /opt/conda/lib/python3.7/site-packages (from importlib-metadata->huggingface-hub>=0.4.0->sentence-transformers) (3.8.0)\r\n",
      "Requirement already satisfied: idna<4,>=2.5 in /opt/conda/lib/python3.7/site-packages (from requests->huggingface-hub>=0.4.0->sentence-transformers) (3.3)\r\n",
      "Requirement already satisfied: certifi>=2017.4.17 in /opt/conda/lib/python3.7/site-packages (from requests->huggingface-hub>=0.4.0->sentence-transformers) (2022.9.24)\r\n",
      "Requirement already satisfied: charset-normalizer<3,>=2 in /opt/conda/lib/python3.7/site-packages (from requests->huggingface-hub>=0.4.0->sentence-transformers) (2.1.0)\r\n",
      "Requirement already satisfied: urllib3<1.27,>=1.21.1 in /opt/conda/lib/python3.7/site-packages (from requests->huggingface-hub>=0.4.0->sentence-transformers) (1.26.12)\r\n",
      "Building wheels for collected packages: sentence-transformers\r\n",
      "  Building wheel for sentence-transformers (setup.py) ... \u001b[?25l-\b \b\\\b \b|\b \bdone\r\n",
      "\u001b[?25h  Created wheel for sentence-transformers: filename=sentence_transformers-2.2.2-py3-none-any.whl size=125938 sha256=3f8656d95abae6dda0be4625da1b09347659f97c5b9b06fee2fed6c05fe54ba4\r\n",
      "  Stored in directory: /root/.cache/pip/wheels/bf/06/fb/d59c1e5bd1dac7f6cf61ec0036cc3a10ab8fecaa6b2c3d3ee9\r\n",
      "Successfully built sentence-transformers\r\n",
      "Installing collected packages: sentence-transformers\r\n",
      "Successfully installed sentence-transformers-2.2.2\r\n",
      "\u001b[33mWARNING: Running pip as the 'root' user can result in broken permissions and conflicting behaviour with the system package manager. It is recommended to use a virtual environment instead: https://pip.pypa.io/warnings/venv\u001b[0m\u001b[33m\r\n",
      "\u001b[0mCollecting matplotlib==3.1.1\r\n",
      "  Downloading matplotlib-3.1.1-cp37-cp37m-manylinux1_x86_64.whl (13.1 MB)\r\n",
      "\u001b[2K     \u001b[90m━━━━━━━━━━━━━━━━━━━━━━━━━━━━━━━━━━━━━━━━\u001b[0m \u001b[32m13.1/13.1 MB\u001b[0m \u001b[31m32.6 MB/s\u001b[0m eta \u001b[36m0:00:00\u001b[0m\r\n",
      "\u001b[?25hRequirement already satisfied: pyparsing!=2.0.4,!=2.1.2,!=2.1.6,>=2.0.1 in /opt/conda/lib/python3.7/site-packages (from matplotlib==3.1.1) (3.0.9)\r\n",
      "Requirement already satisfied: python-dateutil>=2.1 in /opt/conda/lib/python3.7/site-packages (from matplotlib==3.1.1) (2.8.2)\r\n",
      "Requirement already satisfied: numpy>=1.11 in /opt/conda/lib/python3.7/site-packages (from matplotlib==3.1.1) (1.21.6)\r\n",
      "Requirement already satisfied: kiwisolver>=1.0.1 in /opt/conda/lib/python3.7/site-packages (from matplotlib==3.1.1) (1.4.3)\r\n",
      "Requirement already satisfied: cycler>=0.10 in /opt/conda/lib/python3.7/site-packages (from matplotlib==3.1.1) (0.11.0)\r\n",
      "Requirement already satisfied: typing-extensions in /opt/conda/lib/python3.7/site-packages (from kiwisolver>=1.0.1->matplotlib==3.1.1) (4.4.0)\r\n",
      "Requirement already satisfied: six>=1.5 in /opt/conda/lib/python3.7/site-packages (from python-dateutil>=2.1->matplotlib==3.1.1) (1.15.0)\r\n",
      "Installing collected packages: matplotlib\r\n",
      "  Attempting uninstall: matplotlib\r\n",
      "    Found existing installation: matplotlib 3.5.3\r\n",
      "    Uninstalling matplotlib-3.5.3:\r\n",
      "      Successfully uninstalled matplotlib-3.5.3\r\n",
      "\u001b[31mERROR: pip's dependency resolver does not currently take into account all the packages that are installed. This behaviour is the source of the following dependency conflicts.\r\n",
      "beatrix-jupyterlab 3.1.7 requires google-cloud-bigquery-storage, which is not installed.\r\n",
      "wfdb 4.0.0 requires matplotlib<4.0.0,>=3.2.2, but you have matplotlib 3.1.1 which is incompatible.\r\n",
      "pretty-confusion-matrix 0.1.1 requires matplotlib<4.0.0,>=3.5.0, but you have matplotlib 3.1.1 which is incompatible.\r\n",
      "pandas-profiling 3.1.0 requires markupsafe~=2.0.1, but you have markupsafe 2.1.1 which is incompatible.\r\n",
      "pandas-profiling 3.1.0 requires matplotlib>=3.2.0, but you have matplotlib 3.1.1 which is incompatible.\r\n",
      "osmnx 1.1.1 requires matplotlib>=3.3, but you have matplotlib 3.1.1 which is incompatible.\r\n",
      "geoplot 0.5.1 requires matplotlib>=3.1.2, but you have matplotlib 3.1.1 which is incompatible.\r\n",
      "explainable-ai-sdk 1.3.3 requires matplotlib>=3.2.2, but you have matplotlib 3.1.1 which is incompatible.\u001b[0m\u001b[31m\r\n",
      "\u001b[0mSuccessfully installed matplotlib-3.1.1\r\n",
      "\u001b[33mWARNING: Running pip as the 'root' user can result in broken permissions and conflicting behaviour with the system package manager. It is recommended to use a virtual environment instead: https://pip.pypa.io/warnings/venv\u001b[0m\u001b[33m\r\n",
      "\u001b[0m"
     ]
    }
   ],
   "source": [
    "!pip install pretty-confusion-matrix\n",
    "!pip install transformers\n",
    "!pip install pytorch-transformers\n",
    "!pip install -U sentence-transformers\n",
    "!pip install matplotlib==3.1.1"
   ]
  },
  {
   "cell_type": "code",
   "execution_count": 2,
   "id": "991cc4c0",
   "metadata": {
    "execution": {
     "iopub.execute_input": "2022-12-31T06:42:08.563343Z",
     "iopub.status.busy": "2022-12-31T06:42:08.562475Z",
     "iopub.status.idle": "2022-12-31T06:42:09.687063Z",
     "shell.execute_reply": "2022-12-31T06:42:09.685532Z"
    },
    "id": "s-VdnSbWddj-",
    "papermill": {
     "duration": 1.143726,
     "end_time": "2022-12-31T06:42:09.690309",
     "exception": false,
     "start_time": "2022-12-31T06:42:08.546583",
     "status": "completed"
    },
    "tags": []
   },
   "outputs": [],
   "source": [
    "import numpy as np \n",
    "import pandas as pd \n",
    "import csv\n",
    "import pickle\n",
    "import matplotlib.pyplot as plt\n",
    "import seaborn as sns"
   ]
  },
  {
   "cell_type": "code",
   "execution_count": 3,
   "id": "c0b7db0b",
   "metadata": {
    "execution": {
     "iopub.execute_input": "2022-12-31T06:42:09.722473Z",
     "iopub.status.busy": "2022-12-31T06:42:09.721131Z",
     "iopub.status.idle": "2022-12-31T06:42:09.725994Z",
     "shell.execute_reply": "2022-12-31T06:42:09.725107Z"
    },
    "id": "GEJ4QvRnddhe",
    "outputId": "8ff406e0-109d-4fa9-f093-bfe87fc79baf",
    "papermill": {
     "duration": 0.022038,
     "end_time": "2022-12-31T06:42:09.728059",
     "exception": false,
     "start_time": "2022-12-31T06:42:09.706021",
     "status": "completed"
    },
    "tags": []
   },
   "outputs": [],
   "source": [
    "## IF YOU WANT TO MOUNT TO GOOGLE DRIVE, UNCOMMENT THE CODE BELOW ##\n",
    "# from google.colab import drive\n",
    "# drive.mount('/content/drive')"
   ]
  },
  {
   "cell_type": "code",
   "execution_count": 4,
   "id": "e323383d",
   "metadata": {
    "execution": {
     "iopub.execute_input": "2022-12-31T06:42:09.758015Z",
     "iopub.status.busy": "2022-12-31T06:42:09.757298Z",
     "iopub.status.idle": "2022-12-31T06:42:09.762665Z",
     "shell.execute_reply": "2022-12-31T06:42:09.761509Z"
    },
    "id": "rqB01QTTddas",
    "papermill": {
     "duration": 0.023255,
     "end_time": "2022-12-31T06:42:09.764982",
     "exception": false,
     "start_time": "2022-12-31T06:42:09.741727",
     "status": "completed"
    },
    "tags": []
   },
   "outputs": [],
   "source": [
    "NUM_OF_ASPECTS = 5\n",
    "EPOCHS = 2\n",
    "LSTM_UNITS = 256\n",
    "MAXLEN = 768\n",
    "\n",
    "## ADD PATH OF THE PRE-TRAINED MODEL HERE ##\n",
    "# LOAD_PATH = './TOXIC-BERT-20epoch.h5'\n",
    "LOAD_PATH =''"
   ]
  },
  {
   "cell_type": "markdown",
   "id": "b2b308fa",
   "metadata": {
    "id": "5rNGGgTheFsc",
    "papermill": {
     "duration": 0.01329,
     "end_time": "2022-12-31T06:42:09.791940",
     "exception": false,
     "start_time": "2022-12-31T06:42:09.778650",
     "status": "completed"
    },
    "tags": []
   },
   "source": [
    "## LOAD DATA"
   ]
  },
  {
   "cell_type": "code",
   "execution_count": 5,
   "id": "4477b0e4",
   "metadata": {
    "execution": {
     "iopub.execute_input": "2022-12-31T06:42:09.822492Z",
     "iopub.status.busy": "2022-12-31T06:42:09.822015Z",
     "iopub.status.idle": "2022-12-31T06:42:14.673636Z",
     "shell.execute_reply": "2022-12-31T06:42:14.672343Z"
    },
    "id": "k6375DLGeFD_",
    "papermill": {
     "duration": 4.87175,
     "end_time": "2022-12-31T06:42:14.677228",
     "exception": false,
     "start_time": "2022-12-31T06:42:09.805478",
     "status": "completed"
    },
    "tags": []
   },
   "outputs": [
    {
     "name": "stdout",
     "output_type": "stream",
     "text": [
      "\n",
      "***** LOADED TOXIC-BERT *****\n",
      "\n",
      "TRAIN SHAPE : (4224, 1, 768)\n",
      "TEST SHAPE : (792, 1, 768)\n",
      "VAL SHAPE : (264, 1, 768)\n",
      "Y-TRAIN SHAPE : (4224, 8)\n",
      "Y-TEST SHAPE : (792, 8)\n",
      "Y-VAL SHAPE : (264, 8)\n"
     ]
    },
    {
     "name": "stderr",
     "output_type": "stream",
     "text": [
      "2022-12-31 06:42:14.460573: I tensorflow/core/common_runtime/process_util.cc:146] Creating new thread pool with default inter op setting: 2. Tune using inter_op_parallelism_threads for best performance.\n"
     ]
    }
   ],
   "source": [
    "## LOAD EMBEDS DATASET\n",
    "\n",
    "def loadPickle(name):\n",
    "    \n",
    "    ## ADD YOUR BASE PATH TO OUR UR. EXAMPLE : ##\n",
    "    # BASE_PATH = '../iitpolitenesslevels-DATASET/'\n",
    "    BASE_PATH = ''\n",
    "\n",
    "    LOAD_PATH = BASE_PATH+name+'_train.pickle'\n",
    "    with open(LOAD_PATH, 'rb') as handle:\n",
    "        train_embeds = pickle.load(handle)\n",
    "        handle.close()\n",
    "\n",
    "    LOAD_PATH = BASE_PATH+name+'_test.pickle'\n",
    "    with open(LOAD_PATH, 'rb') as handle:\n",
    "        test_embeds = pickle.load(handle)\n",
    "        handle.close()\n",
    "        \n",
    "    LOAD_PATH = BASE_PATH+name+'_val.pickle'\n",
    "    with open(LOAD_PATH, 'rb') as handle:\n",
    "        val_embeds = pickle.load(handle)\n",
    "        handle.close()\n",
    "        \n",
    "    y_train = pd.read_csv(BASE_PATH+'y_train.csv')\n",
    "    y_val = pd.read_csv(BASE_PATH+'y_val.csv')\n",
    "    y_test = pd.read_csv(BASE_PATH+'y_test.csv')\n",
    "    \n",
    "    reviews_train = pd.read_csv(BASE_PATH+'train.csv')\n",
    "    reviews_val = pd.read_csv(BASE_PATH+'val.csv')\n",
    "    reviews_test = pd.read_csv(BASE_PATH+'test.csv')\n",
    "    \n",
    "    print('\\n***** LOADED '+ name+' *****\\n')\n",
    "    print(f'TRAIN SHAPE : {train_embeds.shape}\\nTEST SHAPE : {test_embeds.shape}\\nVAL SHAPE : {val_embeds.shape}\\nY-TRAIN SHAPE : {y_train.shape}\\nY-TEST SHAPE : {y_test.shape}\\nY-VAL SHAPE : {y_val.shape}')\n",
    "\n",
    "    return train_embeds, test_embeds, val_embeds, y_train, y_test, y_val, reviews_train, reviews_val, reviews_test\n",
    "\n",
    "train_embeds, test_embeds, val_embeds, y_train, y_test, y_val, reviews_train, reviews_val, reviews_test = loadPickle('TOXIC-BERT')"
   ]
  },
  {
   "cell_type": "code",
   "execution_count": 6,
   "id": "ee3ef35d",
   "metadata": {
    "execution": {
     "iopub.execute_input": "2022-12-31T06:42:14.707456Z",
     "iopub.status.busy": "2022-12-31T06:42:14.706989Z",
     "iopub.status.idle": "2022-12-31T06:42:14.712740Z",
     "shell.execute_reply": "2022-12-31T06:42:14.711503Z"
    },
    "id": "_Pyu-gT20oym",
    "papermill": {
     "duration": 0.023947,
     "end_time": "2022-12-31T06:42:14.715181",
     "exception": false,
     "start_time": "2022-12-31T06:42:14.691234",
     "status": "completed"
    },
    "tags": []
   },
   "outputs": [],
   "source": [
    "# aspect_categories = y_ohe_test.columns[:-1]\n",
    "aspect_categories = ['HNC', 'NC', 'NN', 'C', 'HC']\n",
    "# y_ohe_test['polarity'] = np.where(y_ohe_test['polarity'] == -1, 0, 1)"
   ]
  },
  {
   "cell_type": "markdown",
   "id": "729844b1",
   "metadata": {
    "id": "3FIPE4zrdhQS",
    "papermill": {
     "duration": 0.013422,
     "end_time": "2022-12-31T06:42:14.742670",
     "exception": false,
     "start_time": "2022-12-31T06:42:14.729248",
     "status": "completed"
    },
    "tags": []
   },
   "source": [
    "## LOAD MODEL"
   ]
  },
  {
   "cell_type": "code",
   "execution_count": 7,
   "id": "ba146dc3",
   "metadata": {
    "execution": {
     "iopub.execute_input": "2022-12-31T06:42:14.774441Z",
     "iopub.status.busy": "2022-12-31T06:42:14.773012Z",
     "iopub.status.idle": "2022-12-31T06:42:15.717256Z",
     "shell.execute_reply": "2022-12-31T06:42:15.716067Z"
    },
    "id": "CL5OpiO60Pwi",
    "papermill": {
     "duration": 0.962911,
     "end_time": "2022-12-31T06:42:15.720331",
     "exception": false,
     "start_time": "2022-12-31T06:42:14.757420",
     "status": "completed"
    },
    "tags": []
   },
   "outputs": [],
   "source": [
    "import tensorflow as tf\n",
    "from keras.layers import Layer\n",
    "from keras import backend as K"
   ]
  },
  {
   "cell_type": "code",
   "execution_count": 8,
   "id": "13854316",
   "metadata": {
    "execution": {
     "iopub.execute_input": "2022-12-31T06:42:15.749711Z",
     "iopub.status.busy": "2022-12-31T06:42:15.749262Z",
     "iopub.status.idle": "2022-12-31T06:42:15.759530Z",
     "shell.execute_reply": "2022-12-31T06:42:15.758611Z"
    },
    "id": "t6F9xhbk0JOu",
    "papermill": {
     "duration": 0.027634,
     "end_time": "2022-12-31T06:42:15.761743",
     "exception": false,
     "start_time": "2022-12-31T06:42:15.734109",
     "status": "completed"
    },
    "tags": []
   },
   "outputs": [],
   "source": [
    "class Attention(Layer):\n",
    "    \n",
    "    def __init__(self, return_sequences=True, **kwargs):\n",
    "        super(Attention,self).__init__()\n",
    "        self.return_sequences = return_sequences\n",
    "        super(Attention, self).__init__(**kwargs)\n",
    "\n",
    "    def get_config(self):\n",
    "        config = super(Attention, self).get_config().copy()\n",
    "        config.update({\n",
    "            'return_sequences': self.return_sequences , \n",
    "        })\n",
    "        return config\n",
    "\n",
    "\n",
    "    def build(self, input_shape):\n",
    "        \n",
    "        self.W=self.add_weight(name=\"att_weight\", shape=(input_shape[-1],1),\n",
    "                               initializer=\"normal\")\n",
    "        self.b=self.add_weight(name=\"att_bias\", shape=(input_shape[1],1),\n",
    "                               initializer=\"zeros\")\n",
    "        \n",
    "        super(Attention,self).build(input_shape)\n",
    "        \n",
    "    def call(self, x):\n",
    "\n",
    "        e =K.squeeze(K.tanh(K.dot(x,self.W)+self.b),axis=-1)\n",
    "        a =K.softmax(e)\n",
    "        a=K.expand_dims(a,axis=-1)\n",
    "        output = x*a\n",
    "        \n",
    "        return K.sum(output, axis=1) "
   ]
  },
  {
   "cell_type": "code",
   "execution_count": 9,
   "id": "f791db66",
   "metadata": {
    "execution": {
     "iopub.execute_input": "2022-12-31T06:42:15.790770Z",
     "iopub.status.busy": "2022-12-31T06:42:15.790319Z",
     "iopub.status.idle": "2022-12-31T06:42:21.018889Z",
     "shell.execute_reply": "2022-12-31T06:42:21.017652Z"
    },
    "id": "qMc3w2mXdXXm",
    "outputId": "39fb7499-f064-4a43-a1e9-30d21781b039",
    "papermill": {
     "duration": 5.245763,
     "end_time": "2022-12-31T06:42:21.021116",
     "exception": false,
     "start_time": "2022-12-31T06:42:15.775353",
     "status": "completed"
    },
    "tags": []
   },
   "outputs": [
    {
     "name": "stdout",
     "output_type": "stream",
     "text": [
      "MODEL LOADED\n",
      "\n",
      "\n"
     ]
    },
    {
     "name": "stderr",
     "output_type": "stream",
     "text": [
      "2022-12-31 06:42:19.083365: I tensorflow/compiler/mlir/mlir_graph_optimization_pass.cc:185] None of the MLIR Optimization Passes are enabled (registered 2)\n"
     ]
    },
    {
     "name": "stdout",
     "output_type": "stream",
     "text": [
      "25/25 [==============================] - 2s 16ms/step - loss: 1.2165 - CONSTRUCTIVENESS_OUTPUT_loss: 0.6921 - POLITENESS_OUTPUT_loss: 0.5244 - CONSTRUCTIVENESS_OUTPUT_accuracy: 0.8763 - POLITENESS_OUTPUT_accuracy: 0.9154\n"
     ]
    },
    {
     "data": {
      "text/plain": [
       "[1.216469407081604,\n",
       " 0.6920768618583679,\n",
       " 0.5243924260139465,\n",
       " 0.8762626051902771,\n",
       " 0.9154040217399597]"
      ]
     },
     "execution_count": 9,
     "metadata": {},
     "output_type": "execute_result"
    }
   ],
   "source": [
    "# LOAD MODEL\n",
    "from keras.models import load_model\n",
    "model = load_model(LOAD_PATH, custom_objects={'Attention': Attention})\n",
    "\n",
    "print(\"MODEL LOADED\\n\\n\")\n",
    "\n",
    "constructive_labels = ['HNC', 'NC', 'NN', 'C', 'HC']\n",
    "politeness_labels = ['IMP', 'NP', 'P']\n",
    "model.evaluate(test_embeds, [y_test[constructive_labels].values, y_test[politeness_labels].values])"
   ]
  },
  {
   "cell_type": "markdown",
   "id": "ee197f09",
   "metadata": {
    "id": "QHdG-GHJvKGc",
    "papermill": {
     "duration": 0.014608,
     "end_time": "2022-12-31T06:42:21.050586",
     "exception": false,
     "start_time": "2022-12-31T06:42:21.035978",
     "status": "completed"
    },
    "tags": []
   },
   "source": [
    "## TOXIC-BERT MODEL \n"
   ]
  },
  {
   "cell_type": "code",
   "execution_count": 10,
   "id": "f4d878b9",
   "metadata": {
    "execution": {
     "iopub.execute_input": "2022-12-31T06:42:21.083135Z",
     "iopub.status.busy": "2022-12-31T06:42:21.082346Z",
     "iopub.status.idle": "2022-12-31T06:42:25.541211Z",
     "shell.execute_reply": "2022-12-31T06:42:25.539882Z"
    },
    "id": "OXGnxbsX3OrB",
    "papermill": {
     "duration": 4.478793,
     "end_time": "2022-12-31T06:42:25.544269",
     "exception": false,
     "start_time": "2022-12-31T06:42:21.065476",
     "status": "completed"
    },
    "tags": []
   },
   "outputs": [],
   "source": [
    "from transformers import pipeline, AutoTokenizer, AutoModel"
   ]
  },
  {
   "cell_type": "code",
   "execution_count": 11,
   "id": "a814bb85",
   "metadata": {
    "execution": {
     "iopub.execute_input": "2022-12-31T06:42:25.577067Z",
     "iopub.status.busy": "2022-12-31T06:42:25.575969Z",
     "iopub.status.idle": "2022-12-31T06:42:25.581991Z",
     "shell.execute_reply": "2022-12-31T06:42:25.581077Z"
    },
    "id": "TaafJOLavI0U",
    "papermill": {
     "duration": 0.024997,
     "end_time": "2022-12-31T06:42:25.584520",
     "exception": false,
     "start_time": "2022-12-31T06:42:25.559523",
     "status": "completed"
    },
    "tags": []
   },
   "outputs": [],
   "source": [
    "embed_model_name = 'troesy/toxicBERT_3epoch'"
   ]
  },
  {
   "cell_type": "code",
   "execution_count": 12,
   "id": "d65071de",
   "metadata": {
    "execution": {
     "iopub.execute_input": "2022-12-31T06:42:25.617267Z",
     "iopub.status.busy": "2022-12-31T06:42:25.616438Z",
     "iopub.status.idle": "2022-12-31T06:42:43.058654Z",
     "shell.execute_reply": "2022-12-31T06:42:43.056937Z"
    },
    "id": "scC6LDYR3HDh",
    "outputId": "be40e549-4bd5-4760-e2ef-5d09b86b414a",
    "papermill": {
     "duration": 17.461568,
     "end_time": "2022-12-31T06:42:43.061607",
     "exception": false,
     "start_time": "2022-12-31T06:42:25.600039",
     "status": "completed"
    },
    "tags": []
   },
   "outputs": [
    {
     "data": {
      "application/vnd.jupyter.widget-view+json": {
       "model_id": "fa48a0f13c74401a811ff04ebb038598",
       "version_major": 2,
       "version_minor": 0
      },
      "text/plain": [
       "Downloading:   0%|          | 0.00/515 [00:00<?, ?B/s]"
      ]
     },
     "metadata": {},
     "output_type": "display_data"
    },
    {
     "data": {
      "application/vnd.jupyter.widget-view+json": {
       "model_id": "9dd38cd0de8649b2bb224af10361eadc",
       "version_major": 2,
       "version_minor": 0
      },
      "text/plain": [
       "Downloading:   0%|          | 0.00/226k [00:00<?, ?B/s]"
      ]
     },
     "metadata": {},
     "output_type": "display_data"
    },
    {
     "data": {
      "application/vnd.jupyter.widget-view+json": {
       "model_id": "14faff9c89be46e187be21a8053b5091",
       "version_major": 2,
       "version_minor": 0
      },
      "text/plain": [
       "Downloading:   0%|          | 0.00/695k [00:00<?, ?B/s]"
      ]
     },
     "metadata": {},
     "output_type": "display_data"
    },
    {
     "data": {
      "application/vnd.jupyter.widget-view+json": {
       "model_id": "e2211f7a4abd40a28afa2ba2514cee7a",
       "version_major": 2,
       "version_minor": 0
      },
      "text/plain": [
       "Downloading:   0%|          | 0.00/125 [00:00<?, ?B/s]"
      ]
     },
     "metadata": {},
     "output_type": "display_data"
    },
    {
     "data": {
      "application/vnd.jupyter.widget-view+json": {
       "model_id": "7ad3e8e17956477a9458b946529c8f71",
       "version_major": 2,
       "version_minor": 0
      },
      "text/plain": [
       "Downloading:   0%|          | 0.00/835 [00:00<?, ?B/s]"
      ]
     },
     "metadata": {},
     "output_type": "display_data"
    },
    {
     "data": {
      "application/vnd.jupyter.widget-view+json": {
       "model_id": "c554f4b98f9547a69d690cb6f31c0dfc",
       "version_major": 2,
       "version_minor": 0
      },
      "text/plain": [
       "Downloading:   0%|          | 0.00/415M [00:00<?, ?B/s]"
      ]
     },
     "metadata": {},
     "output_type": "display_data"
    },
    {
     "name": "stderr",
     "output_type": "stream",
     "text": [
      "Some weights of the model checkpoint at troesy/toxicBERT_3epoch were not used when initializing BertModel: ['classifier.weight', 'classifier.bias']\n",
      "- This IS expected if you are initializing BertModel from the checkpoint of a model trained on another task or with another architecture (e.g. initializing a BertForSequenceClassification model from a BertForPreTraining model).\n",
      "- This IS NOT expected if you are initializing BertModel from the checkpoint of a model that you expect to be exactly identical (initializing a BertForSequenceClassification model from a BertForSequenceClassification model).\n",
      "Some weights of BertModel were not initialized from the model checkpoint at troesy/toxicBERT_3epoch and are newly initialized: ['bert.pooler.dense.bias', 'bert.pooler.dense.weight']\n",
      "You should probably TRAIN this model on a down-stream task to be able to use it for predictions and inference.\n"
     ]
    }
   ],
   "source": [
    "tokenizer = AutoTokenizer.from_pretrained(embed_model_name) \n",
    "embed_model = AutoModel.from_pretrained(embed_model_name)"
   ]
  },
  {
   "cell_type": "code",
   "execution_count": 13,
   "id": "d048b166",
   "metadata": {
    "execution": {
     "iopub.execute_input": "2022-12-31T06:42:43.096256Z",
     "iopub.status.busy": "2022-12-31T06:42:43.095744Z",
     "iopub.status.idle": "2022-12-31T06:42:43.318118Z",
     "shell.execute_reply": "2022-12-31T06:42:43.316960Z"
    },
    "id": "Urj47RIXyXzL",
    "outputId": "6a6e50f4-9543-45cb-abdd-e14f604a6011",
    "papermill": {
     "duration": 0.241929,
     "end_time": "2022-12-31T06:42:43.320413",
     "exception": false,
     "start_time": "2022-12-31T06:42:43.078484",
     "status": "completed"
    },
    "tags": []
   },
   "outputs": [
    {
     "data": {
      "text/plain": [
       "torch.Size([1, 768])"
      ]
     },
     "execution_count": 13,
     "metadata": {},
     "output_type": "execute_result"
    }
   ],
   "source": [
    "def sent2embed(model, sent):\n",
    "    inputs = tokenizer(sent, return_tensors=\"pt\", padding=True, truncation=True, max_length=512)\n",
    "    outputs = model(**inputs)\n",
    "    last_hidden_states = outputs.last_hidden_state\n",
    "    return outputs\n",
    "\n",
    "# SAMPLE SCIBERT\n",
    "sent = ['This work studies the predictive uncertainty issue of deep learning models.']\n",
    "outputs = sent2embed(embed_model, sent)\n",
    "outputs[1].shape\n"
   ]
  },
  {
   "cell_type": "code",
   "execution_count": 14,
   "id": "5b4f2f2e",
   "metadata": {
    "execution": {
     "iopub.execute_input": "2022-12-31T06:42:43.355177Z",
     "iopub.status.busy": "2022-12-31T06:42:43.353992Z",
     "iopub.status.idle": "2022-12-31T06:42:43.361646Z",
     "shell.execute_reply": "2022-12-31T06:42:43.360773Z"
    },
    "id": "TkqMZjcyybmw",
    "jupyter": {
     "source_hidden": true
    },
    "papermill": {
     "duration": 0.027478,
     "end_time": "2022-12-31T06:42:43.363993",
     "exception": false,
     "start_time": "2022-12-31T06:42:43.336515",
     "status": "completed"
    },
    "tags": []
   },
   "outputs": [],
   "source": [
    "# PRE-PROCESS -- SCIBERT-EMBED\n",
    "def sciBertEmbed(reviews, y_train, model):\n",
    "    embed_arr = []\n",
    "    start = reviews.index[0]\n",
    "    for idx in range(len(reviews.index)):\n",
    "        print(start + idx)\n",
    "        outputs = sent2embed(model, reviews.loc[start+idx])\n",
    "        embed_arr.append([outputs[1].detach().numpy()[0]])\n",
    "    \n",
    "    embed_train_arr = tf.stack(embed_arr)\n",
    "\n",
    "    return embed_train_arr, y_train\n"
   ]
  },
  {
   "cell_type": "markdown",
   "id": "2cbaf92e",
   "metadata": {
    "id": "3gjfwopUvp-a",
    "papermill": {
     "duration": 0.01537,
     "end_time": "2022-12-31T06:42:43.395223",
     "exception": false,
     "start_time": "2022-12-31T06:42:43.379853",
     "status": "completed"
    },
    "tags": []
   },
   "source": [
    "## INFERENCE MODEL"
   ]
  },
  {
   "cell_type": "code",
   "execution_count": 15,
   "id": "4207ac67",
   "metadata": {
    "execution": {
     "iopub.execute_input": "2022-12-31T06:42:43.428768Z",
     "iopub.status.busy": "2022-12-31T06:42:43.428057Z",
     "iopub.status.idle": "2022-12-31T06:42:43.434466Z",
     "shell.execute_reply": "2022-12-31T06:42:43.433200Z"
    },
    "id": "EBxUa_ADvraQ",
    "papermill": {
     "duration": 0.026192,
     "end_time": "2022-12-31T06:42:43.436886",
     "exception": false,
     "start_time": "2022-12-31T06:42:43.410694",
     "status": "completed"
    },
    "tags": []
   },
   "outputs": [],
   "source": [
    "def predictPreprocess(model, sent):\n",
    "    outputs = sent2embed(model, sent)\n",
    "    pred_X = np.array([outputs[1].detach().numpy()[0]])\n",
    "    embed_X = tf.stack([pred_X])\n",
    "    return embed_X"
   ]
  },
  {
   "cell_type": "code",
   "execution_count": 16,
   "id": "08a5b45c",
   "metadata": {
    "execution": {
     "iopub.execute_input": "2022-12-31T06:42:43.470351Z",
     "iopub.status.busy": "2022-12-31T06:42:43.469584Z",
     "iopub.status.idle": "2022-12-31T06:42:43.476710Z",
     "shell.execute_reply": "2022-12-31T06:42:43.475648Z"
    },
    "id": "GZN5Bm6SvvFv",
    "papermill": {
     "duration": 0.026768,
     "end_time": "2022-12-31T06:42:43.479189",
     "exception": false,
     "start_time": "2022-12-31T06:42:43.452421",
     "status": "completed"
    },
    "tags": []
   },
   "outputs": [],
   "source": [
    "def inferenceModelForHeatmap(multi_model, embed_model, sents):\n",
    "#     labels = y_ohe_test.columns[:-1]\n",
    "    labels = constructive_labels[::-1]\n",
    "    cm_matrix = []\n",
    "    results =[]\n",
    "    for s in sents:\n",
    "        test_embed = predictPreprocess(embed_model, s.strip())\n",
    "        category_probab = multi_model.predict(test_embed)\n",
    "        category_label_idx = np.argmax(category_probab[0])\n",
    "#         category_polarity = 1 if category_probab[1][0][0] > 0.5 else 0\n",
    "#         category_label = 'POS' if category_probab[1][0][0] > 0.5 else 'NEG'\n",
    "        cm_matrix.append(category_probab[0][0])\n",
    "        results.append([labels[category_label_idx],\n",
    "#                         category_polarity, category_label,\n",
    "                        category_probab[0][0]])\n",
    "        \n",
    "    return results , np.array(cm_matrix)\n"
   ]
  },
  {
   "cell_type": "code",
   "execution_count": 17,
   "id": "c210dd0a",
   "metadata": {
    "execution": {
     "iopub.execute_input": "2022-12-31T06:42:43.512401Z",
     "iopub.status.busy": "2022-12-31T06:42:43.511937Z",
     "iopub.status.idle": "2022-12-31T06:42:43.519508Z",
     "shell.execute_reply": "2022-12-31T06:42:43.518379Z"
    },
    "id": "0UNcFVZpv7iE",
    "papermill": {
     "duration": 0.026858,
     "end_time": "2022-12-31T06:42:43.521652",
     "exception": false,
     "start_time": "2022-12-31T06:42:43.494794",
     "status": "completed"
    },
    "tags": []
   },
   "outputs": [],
   "source": [
    "def cm_plotAttention(cm_matrix , title_txt, palette, annot=False):\n",
    "    plt.figure(figsize=(8, 8))\n",
    "    num_sents = cm_matrix.shape[0] +1\n",
    "\n",
    "    sns.heatmap(cm_matrix.T, cmap= palette, yticklabels=aspect_categories, xticklabels=np.arange(1, num_sents),  annot=annot, fmt=\".2f\")\n",
    "\n",
    "    plt.xlabel('Sentences', fontsize=17, labelpad=20)\n",
    "    plt.ylabel('Constructiveness Categories', fontsize=17, labelpad=20)\n",
    "    plt.tick_params(axis='both', which='major', labelsize=15)\n",
    "    # title = 'Attention Visualization for ' + title_txt\n",
    "    # plt.title(title)\n",
    "    plt.show()\n"
   ]
  },
  {
   "cell_type": "markdown",
   "id": "309a9819",
   "metadata": {
    "id": "kZpKnKIkv0WN",
    "papermill": {
     "duration": 0.01539,
     "end_time": "2022-12-31T06:42:43.552531",
     "exception": false,
     "start_time": "2022-12-31T06:42:43.537141",
     "status": "completed"
    },
    "tags": []
   },
   "source": [
    "### SAMPLE 1"
   ]
  },
  {
   "cell_type": "code",
   "execution_count": 18,
   "id": "a2caec8c",
   "metadata": {
    "execution": {
     "iopub.execute_input": "2022-12-31T06:42:43.586110Z",
     "iopub.status.busy": "2022-12-31T06:42:43.585674Z",
     "iopub.status.idle": "2022-12-31T06:42:45.393359Z",
     "shell.execute_reply": "2022-12-31T06:42:45.391662Z"
    },
    "id": "ATXpISSovzwT",
    "outputId": "962e9f97-675a-45d4-a376-add1a7ac685d",
    "papermill": {
     "duration": 1.829213,
     "end_time": "2022-12-31T06:42:45.397716",
     "exception": false,
     "start_time": "2022-12-31T06:42:43.568503",
     "status": "completed"
    },
    "tags": []
   },
   "outputs": [
    {
     "name": "stdout",
     "output_type": "stream",
     "text": [
      "PREDICTED OUTPUT : [['C', array([4.5534545e-28, 9.9948210e-01, 5.1789411e-04, 7.1536599e-10,\n",
      "       0.0000000e+00], dtype=float32)], ['C', array([4.0814766e-17, 1.0000000e+00, 5.6902373e-12, 1.6325203e-20,\n",
      "       0.0000000e+00], dtype=float32)], ['HC', array([9.9981552e-01, 1.8451431e-04, 7.9853201e-15, 2.0857461e-27,\n",
      "       0.0000000e+00], dtype=float32)], ['C', array([4.5711073e-15, 9.9999917e-01, 7.8184740e-07, 1.6849131e-27,\n",
      "       0.0000000e+00], dtype=float32)], ['NN', array([1.1450093e-09, 6.2467740e-07, 9.9999940e-01, 1.4024795e-21,\n",
      "       0.0000000e+00], dtype=float32)]]\n",
      "\n",
      "\n",
      "PREDICTED CM MATRIX : [[4.5534545e-28 9.9948210e-01 5.1789411e-04 7.1536599e-10 0.0000000e+00]\n",
      " [4.0814766e-17 1.0000000e+00 5.6902373e-12 1.6325203e-20 0.0000000e+00]\n",
      " [9.9981552e-01 1.8451431e-04 7.9853201e-15 2.0857461e-27 0.0000000e+00]\n",
      " [4.5711073e-15 9.9999917e-01 7.8184740e-07 1.6849131e-27 0.0000000e+00]\n",
      " [1.1450093e-09 6.2467740e-07 9.9999940e-01 1.4024795e-21 0.0000000e+00]]\n"
     ]
    }
   ],
   "source": [
    "# SAMPLE 1\n",
    "review1 = [\"It is reassuring to read that the authors have adequately dealt with the points raised by the reviewers.\",\n",
    "            \"Still I think that a replicate of a previous study does not correspond with the ambitions of DOM to publish original research.\",\n",
    "            \"That is why I'm hesitating between low prevalence or reject.\",\n",
    "            \"It is up to the editor to decide.\",\n",
    "            \"The topic of the study stays nonetheless highly relevant but does DOM want to publish a replicate of a previous study with another formula?\"]\n",
    "op1 , cm_matrix1 = inferenceModelForHeatmap(model, embed_model, review1)\n",
    "\n",
    "print('PREDICTED OUTPUT :', op1)\n",
    "print('\\n\\nPREDICTED CM MATRIX :', cm_matrix1)\n"
   ]
  },
  {
   "cell_type": "code",
   "execution_count": 19,
   "id": "a59aba5b",
   "metadata": {
    "execution": {
     "iopub.execute_input": "2022-12-31T06:42:45.433899Z",
     "iopub.status.busy": "2022-12-31T06:42:45.433435Z",
     "iopub.status.idle": "2022-12-31T06:42:46.059728Z",
     "shell.execute_reply": "2022-12-31T06:42:46.058406Z"
    },
    "id": "hb70_agav_69",
    "outputId": "7030be0a-98b2-4583-9e67-d6437bb14f64",
    "papermill": {
     "duration": 0.647145,
     "end_time": "2022-12-31T06:42:46.062692",
     "exception": false,
     "start_time": "2022-12-31T06:42:45.415547",
     "status": "completed"
    },
    "tags": []
   },
   "outputs": [
    {
     "data": {
      "image/png": "[encoded data removed]",
      "text/plain": [
       "<Figure size 576x576 with 2 Axes>"
      ]
     },
     "metadata": {
      "needs_background": "light"
     },
     "output_type": "display_data"
    }
   ],
   "source": [
    "# cm_plotAttention(cm_matrix1 , 'Review 1', \"Greens\")\n",
    "cm_plotAttention(cm_matrix1 , 'Review 1', \"rocket\")"
   ]
  },
  {
   "cell_type": "markdown",
   "id": "8f206081",
   "metadata": {
    "id": "EG8aR0USwDfW",
    "papermill": {
     "duration": 0.015823,
     "end_time": "2022-12-31T06:42:46.095675",
     "exception": false,
     "start_time": "2022-12-31T06:42:46.079852",
     "status": "completed"
    },
    "tags": []
   },
   "source": [
    "### SAMPLE 2"
   ]
  },
  {
   "cell_type": "code",
   "execution_count": 20,
   "id": "ac17f558",
   "metadata": {
    "execution": {
     "iopub.execute_input": "2022-12-31T06:42:46.131006Z",
     "iopub.status.busy": "2022-12-31T06:42:46.130595Z",
     "iopub.status.idle": "2022-12-31T06:42:47.021766Z",
     "shell.execute_reply": "2022-12-31T06:42:47.019736Z"
    },
    "id": "U0fGUKpMwEwB",
    "outputId": "6df2f856-311f-40d6-d027-fb84c6617aa0",
    "papermill": {
     "duration": 0.912736,
     "end_time": "2022-12-31T06:42:47.024600",
     "exception": false,
     "start_time": "2022-12-31T06:42:46.111864",
     "status": "completed"
    },
    "tags": []
   },
   "outputs": [
    {
     "name": "stdout",
     "output_type": "stream",
     "text": [
      "PREDICTED OUTPUT : [['C', array([9.5450522e-23, 9.9999595e-01, 4.0075583e-06, 8.1034684e-12,\n",
      "       0.0000000e+00], dtype=float32)], ['C', array([1.286899e-30, 1.000000e+00, 2.184348e-25, 0.000000e+00,\n",
      "       0.000000e+00], dtype=float32)], ['NN', array([1.9091259e-15, 2.1986847e-05, 9.9997807e-01, 2.5111145e-17,\n",
      "       0.0000000e+00], dtype=float32)], ['NN', array([2.7368230e-07, 1.8704040e-06, 9.9999785e-01, 1.1697277e-29,\n",
      "       0.0000000e+00], dtype=float32)], ['C', array([1.1361497e-27, 1.0000000e+00, 1.8477397e-17, 1.1390726e-23,\n",
      "       0.0000000e+00], dtype=float32)], ['C', array([9.9636560e-27, 1.0000000e+00, 4.4624063e-10, 8.1761341e-22,\n",
      "       0.0000000e+00], dtype=float32)]]\n",
      "\n",
      "\n",
      "PREDICTED CM MATRIX : [[9.5450522e-23 9.9999595e-01 4.0075583e-06 8.1034684e-12 0.0000000e+00]\n",
      " [1.2868990e-30 1.0000000e+00 2.1843480e-25 0.0000000e+00 0.0000000e+00]\n",
      " [1.9091259e-15 2.1986847e-05 9.9997807e-01 2.5111145e-17 0.0000000e+00]\n",
      " [2.7368230e-07 1.8704040e-06 9.9999785e-01 1.1697277e-29 0.0000000e+00]\n",
      " [1.1361497e-27 1.0000000e+00 1.8477397e-17 1.1390726e-23 0.0000000e+00]\n",
      " [9.9636560e-27 1.0000000e+00 4.4624063e-10 8.1761341e-22 0.0000000e+00]]\n"
     ]
    }
   ],
   "source": [
    "# SAMPLE 2\n",
    "# review2 = [\"The manuscript looks good and can be published after fixing some minor issues I list below - congratulations!\",\n",
    "#            \"I don't need to see the manuscript again after the changes have been implemented.\",\n",
    "#            '29: replace \"bottleneck\" with \"mismatch\"',\n",
    "#            '29-30: that is a bold statement that in this form may not even be true: genomic data are not more comprehensive than phenomic data, and some phenotypic data are easier to collect than genomic data. you may want to rephrase this half sentence.',\n",
    "#            \"\"\"32: it's a good idea to introduce abbreviations for repeated mentions, but I found several instances of \"high-throughput phenotyping\" in the text, subtitles, and captions - replace those with HTP, or remove the HTP abbreviation (it might be more understandable to be explcit and not abbreviate)\"\"\",\n",
    "#            '43: remove \"nowadays,\"',\n",
    "#            '53: It seems that you are using 3D phenotyping and HTP/high throughput phenotyping somewhat interchangeably. in this case, it should be 3D phenotyping instead of HTP, no?',\n",
    "#            \"\"\"106: don't abbreviate if you don't use the abbreviation again (and multiple times) - remove \"(SfM)\", and check for other instances of abbreviations (e.g. \"HTP\")\"\"\",\n",
    "#            \"\"\"239: replace \"Challengingly,\" with \"Remaining challenges are that\"\"\"]\n",
    "review2 = [\"\"\"The authors have nicely addressed my major concerns from the the previous review.\"\"\",\n",
    "           \"\"\"I have only two minor suggestions.\"\"\", \n",
    " \"\"\"1) I would suggest that the authors show quantification of their western blot data in the figures or be specifically stating the levels of change in the text.\"\"\", \n",
    "   \"\"\"2) In figure 8, the authors should remove changes in metabolism that are not directly examined in the text.\"\"\", \n",
    "           \"\"\"For instance, glutamine uptake and amino acid catabolism were not directly measured.\"\"\",\n",
    "           \"\"\"The enhance levels to TCA intermediates observed in the metabolomics study could just as easily have been derived from fatty acid metabolism.\"\"\"]\n",
    "\n",
    "op2 , cm_matrix2 = inferenceModelForHeatmap(model, embed_model, review2)\n",
    "\n",
    "print('PREDICTED OUTPUT :', op2)\n",
    "print('\\n\\nPREDICTED CM MATRIX :', cm_matrix2)\n"
   ]
  },
  {
   "cell_type": "code",
   "execution_count": 21,
   "id": "42d36740",
   "metadata": {
    "execution": {
     "iopub.execute_input": "2022-12-31T06:42:47.059298Z",
     "iopub.status.busy": "2022-12-31T06:42:47.058808Z",
     "iopub.status.idle": "2022-12-31T06:42:47.353600Z",
     "shell.execute_reply": "2022-12-31T06:42:47.352258Z"
    },
    "id": "2a2D0W3fwGvC",
    "outputId": "345f598d-901a-4651-aa51-18bed7d22f29",
    "papermill": {
     "duration": 0.315446,
     "end_time": "2022-12-31T06:42:47.356467",
     "exception": false,
     "start_time": "2022-12-31T06:42:47.041021",
     "status": "completed"
    },
    "tags": []
   },
   "outputs": [
    {
     "data": {
      "image/png": "[encoded data removed]",
      "text/plain": [
       "<Figure size 576x576 with 2 Axes>"
      ]
     },
     "metadata": {
      "needs_background": "light"
     },
     "output_type": "display_data"
    }
   ],
   "source": [
    "# cm_plotAttention(cm_matrix2 , 'Rewiew 2', 'Greens')\n",
    "cm_plotAttention(cm_matrix2 , 'Rewiew 2', 'rocket')"
   ]
  },
  {
   "cell_type": "code",
   "execution_count": null,
   "id": "57146c45",
   "metadata": {
    "id": "FBpTlakX0984",
    "papermill": {
     "duration": 0.01699,
     "end_time": "2022-12-31T06:42:47.391354",
     "exception": false,
     "start_time": "2022-12-31T06:42:47.374364",
     "status": "completed"
    },
    "tags": []
   },
   "outputs": [],
   "source": []
  }
 ],
 "metadata": {
  "kernelspec": {
   "display_name": "Python 3",
   "language": "python",
   "name": "python3"
  },
  "language_info": {
   "codemirror_mode": {
    "name": "ipython",
    "version": 3
   },
   "file_extension": ".py",
   "mimetype": "text/x-python",
   "name": "python",
   "nbconvert_exporter": "python",
   "pygments_lexer": "ipython3",
   "version": "3.10.2 (v3.10.2:a58ebcc701, Jan 13 2022, 14:50:16) [Clang 13.0.0 (clang-1300.0.29.30)]"
  },
  "papermill": {
   "default_parameters": {},
   "duration": 138.314875,
   "end_time": "2022-12-31T06:42:51.132300",
   "environment_variables": {},
   "exception": null,
   "input_path": "__notebook__.ipynb",
   "output_path": "__notebook__.ipynb",
   "parameters": {},
   "start_time": "2022-12-31T06:40:32.817425",
   "version": "2.3.4"
  },
  "vscode": {
   "interpreter": {
    "hash": "aee8b7b246df8f9039afb4144a1f6fd8d2ca17a180786b69acc140d282b71a49"
   }
  },
  "widgets": {
   "application/vnd.jupyter.widget-state+json": {
    "state": {
     "021fb65f160345b79e6af64b5a78e2bd": {
      "model_module": "@jupyter-widgets/base",
      "model_module_version": "1.2.0",
      "model_name": "LayoutModel",
      "state": {
       "_model_module": "@jupyter-widgets/base",
       "_model_module_version": "1.2.0",
       "_model_name": "LayoutModel",
       "_view_count": null,
       "_view_module": "@jupyter-widgets/base",
       "_view_module_version": "1.2.0",
       "_view_name": "LayoutView",
       "align_content": null,
       "align_items": null,
       "align_self": null,
       "border": null,
       "bottom": null,
       "display": null,
       "flex": null,
       "flex_flow": null,
       "grid_area": null,
       "grid_auto_columns": null,
       "grid_auto_flow": null,
       "grid_auto_rows": null,
       "grid_column": null,
       "grid_gap": null,
       "grid_row": null,
       "grid_template_areas": null,
       "grid_template_columns": null,
       "grid_template_rows": null,
       "height": null,
       "justify_content": null,
       "justify_items": null,
       "left": null,
       "margin": null,
       "max_height": null,
       "max_width": null,
       "min_height": null,
       "min_width": null,
       "object_fit": null,
       "object_position": null,
       "order": null,
       "overflow": null,
       "overflow_x": null,
       "overflow_y": null,
       "padding": null,
       "right": null,
       "top": null,
       "visibility": null,
       "width": null
      }
     },
     "034b6c74453d4c58b1b39cb7407c67f5": {
      "model_module": "@jupyter-widgets/controls",
      "model_module_version": "1.5.0",
      "model_name": "ProgressStyleModel",
      "state": {
       "_model_module": "@jupyter-widgets/controls",
       "_model_module_version": "1.5.0",
       "_model_name": "ProgressStyleModel",
       "_view_count": null,
       "_view_module": "@jupyter-widgets/base",
       "_view_module_version": "1.2.0",
       "_view_name": "StyleView",
       "bar_color": null,
       "description_width": ""
      }
     },
     "052c9694eee84e23b2ccfe2790e8c77e": {
      "model_module": "@jupyter-widgets/base",
      "model_module_version": "1.2.0",
      "model_name": "LayoutModel",
      "state": {
       "_model_module": "@jupyter-widgets/base",
       "_model_module_version": "1.2.0",
       "_model_name": "LayoutModel",
       "_view_count": null,
       "_view_module": "@jupyter-widgets/base",
       "_view_module_version": "1.2.0",
       "_view_name": "LayoutView",
       "align_content": null,
       "align_items": null,
       "align_self": null,
       "border": null,
       "bottom": null,
       "display": null,
       "flex": null,
       "flex_flow": null,
       "grid_area": null,
       "grid_auto_columns": null,
       "grid_auto_flow": null,
       "grid_auto_rows": null,
       "grid_column": null,
       "grid_gap": null,
       "grid_row": null,
       "grid_template_areas": null,
       "grid_template_columns": null,
       "grid_template_rows": null,
       "height": null,
       "justify_content": null,
       "justify_items": null,
       "left": null,
       "margin": null,
       "max_height": null,
       "max_width": null,
       "min_height": null,
       "min_width": null,
       "object_fit": null,
       "object_position": null,
       "order": null,
       "overflow": null,
       "overflow_x": null,
       "overflow_y": null,
       "padding": null,
       "right": null,
       "top": null,
       "visibility": null,
       "width": null
      }
     },
     "0e1ba8b01d1f41bf972b46dc91e42134": {
      "model_module": "@jupyter-widgets/base",
      "model_module_version": "1.2.0",
      "model_name": "LayoutModel",
      "state": {
       "_model_module": "@jupyter-widgets/base",
       "_model_module_version": "1.2.0",
       "_model_name": "LayoutModel",
       "_view_count": null,
       "_view_module": "@jupyter-widgets/base",
       "_view_module_version": "1.2.0",
       "_view_name": "LayoutView",
       "align_content": null,
       "align_items": null,
       "align_self": null,
       "border": null,
       "bottom": null,
       "display": null,
       "flex": null,
       "flex_flow": null,
       "grid_area": null,
       "grid_auto_columns": null,
       "grid_auto_flow": null,
       "grid_auto_rows": null,
       "grid_column": null,
       "grid_gap": null,
       "grid_row": null,
       "grid_template_areas": null,
       "grid_template_columns": null,
       "grid_template_rows": null,
       "height": null,
       "justify_content": null,
       "justify_items": null,
       "left": null,
       "margin": null,
       "max_height": null,
       "max_width": null,
       "min_height": null,
       "min_width": null,
       "object_fit": null,
       "object_position": null,
       "order": null,
       "overflow": null,
       "overflow_x": null,
       "overflow_y": null,
       "padding": null,
       "right": null,
       "top": null,
       "visibility": null,
       "width": null
      }
     },
     "126cf86391e54bccbe9ebc7ea02b5eb8": {
      "model_module": "@jupyter-widgets/controls",
      "model_module_version": "1.5.0",
      "model_name": "HTMLModel",
      "state": {
       "_dom_classes": [],
       "_model_module": "@jupyter-widgets/controls",
       "_model_module_version": "1.5.0",
       "_model_name": "HTMLModel",
       "_view_count": null,
       "_view_module": "@jupyter-widgets/controls",
       "_view_module_version": "1.5.0",
       "_view_name": "HTMLView",
       "description": "",
       "description_tooltip": null,
       "layout": "IPY_MODEL_1cd914f1515d4b43aae259a33ede12ed",
       "placeholder": "​",
       "style": "IPY_MODEL_150978e0ab664996bb3b3cab8beb8044",
       "value": " 125/125 [00:00&lt;00:00, 4.04kB/s]"
      }
     },
     "14faff9c89be46e187be21a8053b5091": {
      "model_module": "@jupyter-widgets/controls",
      "model_module_version": "1.5.0",
      "model_name": "HBoxModel",
      "state": {
       "_dom_classes": [],
       "_model_module": "@jupyter-widgets/controls",
       "_model_module_version": "1.5.0",
       "_model_name": "HBoxModel",
       "_view_count": null,
       "_view_module": "@jupyter-widgets/controls",
       "_view_module_version": "1.5.0",
       "_view_name": "HBoxView",
       "box_style": "",
       "children": [
        "IPY_MODEL_b55d1fa0b11946c7a13a6eecbd1de05e",
        "IPY_MODEL_2ae350ab98de42cf93f5d0297e059653",
        "IPY_MODEL_9e984c0792f04375b95d40951dd265c6"
       ],
       "layout": "IPY_MODEL_a944307224bd486eb6dfa502eeb6f1fd"
      }
     },
     "150978e0ab664996bb3b3cab8beb8044": {
      "model_module": "@jupyter-widgets/controls",
      "model_module_version": "1.5.0",
      "model_name": "DescriptionStyleModel",
      "state": {
       "_model_module": "@jupyter-widgets/controls",
       "_model_module_version": "1.5.0",
       "_model_name": "DescriptionStyleModel",
       "_view_count": null,
       "_view_module": "@jupyter-widgets/base",
       "_view_module_version": "1.2.0",
       "_view_name": "StyleView",
       "description_width": ""
      }
     },
     "15519e64f6d94f19aebe5515f36fc833": {
      "model_module": "@jupyter-widgets/controls",
      "model_module_version": "1.5.0",
      "model_name": "DescriptionStyleModel",
      "state": {
       "_model_module": "@jupyter-widgets/controls",
       "_model_module_version": "1.5.0",
       "_model_name": "DescriptionStyleModel",
       "_view_count": null,
       "_view_module": "@jupyter-widgets/base",
       "_view_module_version": "1.2.0",
       "_view_name": "StyleView",
       "description_width": ""
      }
     },
     "16635f207b144dc487956c6782618ec2": {
      "model_module": "@jupyter-widgets/controls",
      "model_module_version": "1.5.0",
      "model_name": "HTMLModel",
      "state": {
       "_dom_classes": [],
       "_model_module": "@jupyter-widgets/controls",
       "_model_module_version": "1.5.0",
       "_model_name": "HTMLModel",
       "_view_count": null,
       "_view_module": "@jupyter-widgets/controls",
       "_view_module_version": "1.5.0",
       "_view_name": "HTMLView",
       "description": "",
       "description_tooltip": null,
       "layout": "IPY_MODEL_50a18078226d469b818e9dea1b646de8",
       "placeholder": "​",
       "style": "IPY_MODEL_1a13c7f8838f48d386b5ea14c7003b3a",
       "value": "Downloading: 100%"
      }
     },
     "1a13c7f8838f48d386b5ea14c7003b3a": {
      "model_module": "@jupyter-widgets/controls",
      "model_module_version": "1.5.0",
      "model_name": "DescriptionStyleModel",
      "state": {
       "_model_module": "@jupyter-widgets/controls",
       "_model_module_version": "1.5.0",
       "_model_name": "DescriptionStyleModel",
       "_view_count": null,
       "_view_module": "@jupyter-widgets/base",
       "_view_module_version": "1.2.0",
       "_view_name": "StyleView",
       "description_width": ""
      }
     },
     "1cd914f1515d4b43aae259a33ede12ed": {
      "model_module": "@jupyter-widgets/base",
      "model_module_version": "1.2.0",
      "model_name": "LayoutModel",
      "state": {
       "_model_module": "@jupyter-widgets/base",
       "_model_module_version": "1.2.0",
       "_model_name": "LayoutModel",
       "_view_count": null,
       "_view_module": "@jupyter-widgets/base",
       "_view_module_version": "1.2.0",
       "_view_name": "LayoutView",
       "align_content": null,
       "align_items": null,
       "align_self": null,
       "border": null,
       "bottom": null,
       "display": null,
       "flex": null,
       "flex_flow": null,
       "grid_area": null,
       "grid_auto_columns": null,
       "grid_auto_flow": null,
       "grid_auto_rows": null,
       "grid_column": null,
       "grid_gap": null,
       "grid_row": null,
       "grid_template_areas": null,
       "grid_template_columns": null,
       "grid_template_rows": null,
       "height": null,
       "justify_content": null,
       "justify_items": null,
       "left": null,
       "margin": null,
       "max_height": null,
       "max_width": null,
       "min_height": null,
       "min_width": null,
       "object_fit": null,
       "object_position": null,
       "order": null,
       "overflow": null,
       "overflow_x": null,
       "overflow_y": null,
       "padding": null,
       "right": null,
       "top": null,
       "visibility": null,
       "width": null
      }
     },
     "1e776f0849d4463fbb0c6106d122ac16": {
      "model_module": "@jupyter-widgets/controls",
      "model_module_version": "1.5.0",
      "model_name": "HTMLModel",
      "state": {
       "_dom_classes": [],
       "_model_module": "@jupyter-widgets/controls",
       "_model_module_version": "1.5.0",
       "_model_name": "HTMLModel",
       "_view_count": null,
       "_view_module": "@jupyter-widgets/controls",
       "_view_module_version": "1.5.0",
       "_view_name": "HTMLView",
       "description": "",
       "description_tooltip": null,
       "layout": "IPY_MODEL_052c9694eee84e23b2ccfe2790e8c77e",
       "placeholder": "​",
       "style": "IPY_MODEL_15519e64f6d94f19aebe5515f36fc833",
       "value": "Downloading: 100%"
      }
     },
     "1fe2ec01eb534a448af62ce0ddce9ee9": {
      "model_module": "@jupyter-widgets/controls",
      "model_module_version": "1.5.0",
      "model_name": "DescriptionStyleModel",
      "state": {
       "_model_module": "@jupyter-widgets/controls",
       "_model_module_version": "1.5.0",
       "_model_name": "DescriptionStyleModel",
       "_view_count": null,
       "_view_module": "@jupyter-widgets/base",
       "_view_module_version": "1.2.0",
       "_view_name": "StyleView",
       "description_width": ""
      }
     },
     "1ffbdd5e5d5048a5a054f35433e551a9": {
      "model_module": "@jupyter-widgets/base",
      "model_module_version": "1.2.0",
      "model_name": "LayoutModel",
      "state": {
       "_model_module": "@jupyter-widgets/base",
       "_model_module_version": "1.2.0",
       "_model_name": "LayoutModel",
       "_view_count": null,
       "_view_module": "@jupyter-widgets/base",
       "_view_module_version": "1.2.0",
       "_view_name": "LayoutView",
       "align_content": null,
       "align_items": null,
       "align_self": null,
       "border": null,
       "bottom": null,
       "display": null,
       "flex": null,
       "flex_flow": null,
       "grid_area": null,
       "grid_auto_columns": null,
       "grid_auto_flow": null,
       "grid_auto_rows": null,
       "grid_column": null,
       "grid_gap": null,
       "grid_row": null,
       "grid_template_areas": null,
       "grid_template_columns": null,
       "grid_template_rows": null,
       "height": null,
       "justify_content": null,
       "justify_items": null,
       "left": null,
       "margin": null,
       "max_height": null,
       "max_width": null,
       "min_height": null,
       "min_width": null,
       "object_fit": null,
       "object_position": null,
       "order": null,
       "overflow": null,
       "overflow_x": null,
       "overflow_y": null,
       "padding": null,
       "right": null,
       "top": null,
       "visibility": null,
       "width": null
      }
     },
     "25a7ab9e8784438988006c373c14e231": {
      "model_module": "@jupyter-widgets/controls",
      "model_module_version": "1.5.0",
      "model_name": "FloatProgressModel",
      "state": {
       "_dom_classes": [],
       "_model_module": "@jupyter-widgets/controls",
       "_model_module_version": "1.5.0",
       "_model_name": "FloatProgressModel",
       "_view_count": null,
       "_view_module": "@jupyter-widgets/controls",
       "_view_module_version": "1.5.0",
       "_view_name": "ProgressView",
       "bar_style": "success",
       "description": "",
       "description_tooltip": null,
       "layout": "IPY_MODEL_dd204ec523e54af1a86b9bc5df613b85",
       "max": 125,
       "min": 0,
       "orientation": "horizontal",
       "style": "IPY_MODEL_034b6c74453d4c58b1b39cb7407c67f5",
       "value": 125
      }
     },
     "2753f289426645c0aff660bd1048491f": {
      "model_module": "@jupyter-widgets/base",
      "model_module_version": "1.2.0",
      "model_name": "LayoutModel",
      "state": {
       "_model_module": "@jupyter-widgets/base",
       "_model_module_version": "1.2.0",
       "_model_name": "LayoutModel",
       "_view_count": null,
       "_view_module": "@jupyter-widgets/base",
       "_view_module_version": "1.2.0",
       "_view_name": "LayoutView",
       "align_content": null,
       "align_items": null,
       "align_self": null,
       "border": null,
       "bottom": null,
       "display": null,
       "flex": null,
       "flex_flow": null,
       "grid_area": null,
       "grid_auto_columns": null,
       "grid_auto_flow": null,
       "grid_auto_rows": null,
       "grid_column": null,
       "grid_gap": null,
       "grid_row": null,
       "grid_template_areas": null,
       "grid_template_columns": null,
       "grid_template_rows": null,
       "height": null,
       "justify_content": null,
       "justify_items": null,
       "left": null,
       "margin": null,
       "max_height": null,
       "max_width": null,
       "min_height": null,
       "min_width": null,
       "object_fit": null,
       "object_position": null,
       "order": null,
       "overflow": null,
       "overflow_x": null,
       "overflow_y": null,
       "padding": null,
       "right": null,
       "top": null,
       "visibility": null,
       "width": null
      }
     },
     "29e5803bee3c449fa1f52eee554793a0": {
      "model_module": "@jupyter-widgets/controls",
      "model_module_version": "1.5.0",
      "model_name": "HTMLModel",
      "state": {
       "_dom_classes": [],
       "_model_module": "@jupyter-widgets/controls",
       "_model_module_version": "1.5.0",
       "_model_name": "HTMLModel",
       "_view_count": null,
       "_view_module": "@jupyter-widgets/controls",
       "_view_module_version": "1.5.0",
       "_view_name": "HTMLView",
       "description": "",
       "description_tooltip": null,
       "layout": "IPY_MODEL_2753f289426645c0aff660bd1048491f",
       "placeholder": "​",
       "style": "IPY_MODEL_97cde28180b24290b059fdf2c03ed0a3",
       "value": "Downloading: 100%"
      }
     },
     "2aa375df2980489cb891be9ead5c693b": {
      "model_module": "@jupyter-widgets/controls",
      "model_module_version": "1.5.0",
      "model_name": "FloatProgressModel",
      "state": {
       "_dom_classes": [],
       "_model_module": "@jupyter-widgets/controls",
       "_model_module_version": "1.5.0",
       "_model_name": "FloatProgressModel",
       "_view_count": null,
       "_view_module": "@jupyter-widgets/controls",
       "_view_module_version": "1.5.0",
       "_view_name": "ProgressView",
       "bar_style": "success",
       "description": "",
       "description_tooltip": null,
       "layout": "IPY_MODEL_0e1ba8b01d1f41bf972b46dc91e42134",
       "max": 231508,
       "min": 0,
       "orientation": "horizontal",
       "style": "IPY_MODEL_9615db5ccd8343898f3e4be2fe9ea337",
       "value": 231508
      }
     },
     "2ae350ab98de42cf93f5d0297e059653": {
      "model_module": "@jupyter-widgets/controls",
      "model_module_version": "1.5.0",
      "model_name": "FloatProgressModel",
      "state": {
       "_dom_classes": [],
       "_model_module": "@jupyter-widgets/controls",
       "_model_module_version": "1.5.0",
       "_model_name": "FloatProgressModel",
       "_view_count": null,
       "_view_module": "@jupyter-widgets/controls",
       "_view_module_version": "1.5.0",
       "_view_name": "ProgressView",
       "bar_style": "success",
       "description": "",
       "description_tooltip": null,
       "layout": "IPY_MODEL_d13c0378876240d8b357464b176acad8",
       "max": 711494,
       "min": 0,
       "orientation": "horizontal",
       "style": "IPY_MODEL_c1e37b2683be4d92a847f49f1065d483",
       "value": 711494
      }
     },
     "2d5fa7f290a443aa86f0d69c5261015e": {
      "model_module": "@jupyter-widgets/base",
      "model_module_version": "1.2.0",
      "model_name": "LayoutModel",
      "state": {
       "_model_module": "@jupyter-widgets/base",
       "_model_module_version": "1.2.0",
       "_model_name": "LayoutModel",
       "_view_count": null,
       "_view_module": "@jupyter-widgets/base",
       "_view_module_version": "1.2.0",
       "_view_name": "LayoutView",
       "align_content": null,
       "align_items": null,
       "align_self": null,
       "border": null,
       "bottom": null,
       "display": null,
       "flex": null,
       "flex_flow": null,
       "grid_area": null,
       "grid_auto_columns": null,
       "grid_auto_flow": null,
       "grid_auto_rows": null,
       "grid_column": null,
       "grid_gap": null,
       "grid_row": null,
       "grid_template_areas": null,
       "grid_template_columns": null,
       "grid_template_rows": null,
       "height": null,
       "justify_content": null,
       "justify_items": null,
       "left": null,
       "margin": null,
       "max_height": null,
       "max_width": null,
       "min_height": null,
       "min_width": null,
       "object_fit": null,
       "object_position": null,
       "order": null,
       "overflow": null,
       "overflow_x": null,
       "overflow_y": null,
       "padding": null,
       "right": null,
       "top": null,
       "visibility": null,
       "width": null
      }
     },
     "30d0c482d4fd433789b3d34deb168cfd": {
      "model_module": "@jupyter-widgets/controls",
      "model_module_version": "1.5.0",
      "model_name": "HTMLModel",
      "state": {
       "_dom_classes": [],
       "_model_module": "@jupyter-widgets/controls",
       "_model_module_version": "1.5.0",
       "_model_name": "HTMLModel",
       "_view_count": null,
       "_view_module": "@jupyter-widgets/controls",
       "_view_module_version": "1.5.0",
       "_view_name": "HTMLView",
       "description": "",
       "description_tooltip": null,
       "layout": "IPY_MODEL_3e9a7f0010ae4903b6d69ee0aabdd2bd",
       "placeholder": "​",
       "style": "IPY_MODEL_77d8805e458846059b4916a5d99ee80e",
       "value": " 415M/415M [00:09&lt;00:00, 51.0MB/s]"
      }
     },
     "3aa9990daa9e439a86433f0ed9b60d48": {
      "model_module": "@jupyter-widgets/controls",
      "model_module_version": "1.5.0",
      "model_name": "DescriptionStyleModel",
      "state": {
       "_model_module": "@jupyter-widgets/controls",
       "_model_module_version": "1.5.0",
       "_model_name": "DescriptionStyleModel",
       "_view_count": null,
       "_view_module": "@jupyter-widgets/base",
       "_view_module_version": "1.2.0",
       "_view_name": "StyleView",
       "description_width": ""
      }
     },
     "3e9a7f0010ae4903b6d69ee0aabdd2bd": {
      "model_module": "@jupyter-widgets/base",
      "model_module_version": "1.2.0",
      "model_name": "LayoutModel",
      "state": {
       "_model_module": "@jupyter-widgets/base",
       "_model_module_version": "1.2.0",
       "_model_name": "LayoutModel",
       "_view_count": null,
       "_view_module": "@jupyter-widgets/base",
       "_view_module_version": "1.2.0",
       "_view_name": "LayoutView",
       "align_content": null,
       "align_items": null,
       "align_self": null,
       "border": null,
       "bottom": null,
       "display": null,
       "flex": null,
       "flex_flow": null,
       "grid_area": null,
       "grid_auto_columns": null,
       "grid_auto_flow": null,
       "grid_auto_rows": null,
       "grid_column": null,
       "grid_gap": null,
       "grid_row": null,
       "grid_template_areas": null,
       "grid_template_columns": null,
       "grid_template_rows": null,
       "height": null,
       "justify_content": null,
       "justify_items": null,
       "left": null,
       "margin": null,
       "max_height": null,
       "max_width": null,
       "min_height": null,
       "min_width": null,
       "object_fit": null,
       "object_position": null,
       "order": null,
       "overflow": null,
       "overflow_x": null,
       "overflow_y": null,
       "padding": null,
       "right": null,
       "top": null,
       "visibility": null,
       "width": null
      }
     },
     "4fcf71b541f142d7b233a0af54e2cfb5": {
      "model_module": "@jupyter-widgets/controls",
      "model_module_version": "1.5.0",
      "model_name": "FloatProgressModel",
      "state": {
       "_dom_classes": [],
       "_model_module": "@jupyter-widgets/controls",
       "_model_module_version": "1.5.0",
       "_model_name": "FloatProgressModel",
       "_view_count": null,
       "_view_module": "@jupyter-widgets/controls",
       "_view_module_version": "1.5.0",
       "_view_name": "ProgressView",
       "bar_style": "success",
       "description": "",
       "description_tooltip": null,
       "layout": "IPY_MODEL_7eebecbd4e744478b6609a71dc83f3b8",
       "max": 835,
       "min": 0,
       "orientation": "horizontal",
       "style": "IPY_MODEL_b79872eda1294e5bb95edbb7dc9cc139",
       "value": 835
      }
     },
     "5058db61100e42dda578d190642ba3f4": {
      "model_module": "@jupyter-widgets/controls",
      "model_module_version": "1.5.0",
      "model_name": "HTMLModel",
      "state": {
       "_dom_classes": [],
       "_model_module": "@jupyter-widgets/controls",
       "_model_module_version": "1.5.0",
       "_model_name": "HTMLModel",
       "_view_count": null,
       "_view_module": "@jupyter-widgets/controls",
       "_view_module_version": "1.5.0",
       "_view_name": "HTMLView",
       "description": "",
       "description_tooltip": null,
       "layout": "IPY_MODEL_cee3845e402a40a690af12d56c295a43",
       "placeholder": "​",
       "style": "IPY_MODEL_da3cb9c6244e4c99b2977af5709d8ccb",
       "value": "Downloading: 100%"
      }
     },
     "50a18078226d469b818e9dea1b646de8": {
      "model_module": "@jupyter-widgets/base",
      "model_module_version": "1.2.0",
      "model_name": "LayoutModel",
      "state": {
       "_model_module": "@jupyter-widgets/base",
       "_model_module_version": "1.2.0",
       "_model_name": "LayoutModel",
       "_view_count": null,
       "_view_module": "@jupyter-widgets/base",
       "_view_module_version": "1.2.0",
       "_view_name": "LayoutView",
       "align_content": null,
       "align_items": null,
       "align_self": null,
       "border": null,
       "bottom": null,
       "display": null,
       "flex": null,
       "flex_flow": null,
       "grid_area": null,
       "grid_auto_columns": null,
       "grid_auto_flow": null,
       "grid_auto_rows": null,
       "grid_column": null,
       "grid_gap": null,
       "grid_row": null,
       "grid_template_areas": null,
       "grid_template_columns": null,
       "grid_template_rows": null,
       "height": null,
       "justify_content": null,
       "justify_items": null,
       "left": null,
       "margin": null,
       "max_height": null,
       "max_width": null,
       "min_height": null,
       "min_width": null,
       "object_fit": null,
       "object_position": null,
       "order": null,
       "overflow": null,
       "overflow_x": null,
       "overflow_y": null,
       "padding": null,
       "right": null,
       "top": null,
       "visibility": null,
       "width": null
      }
     },
     "50c4a3f28fa24ec6aeb4bac367541746": {
      "model_module": "@jupyter-widgets/controls",
      "model_module_version": "1.5.0",
      "model_name": "HTMLModel",
      "state": {
       "_dom_classes": [],
       "_model_module": "@jupyter-widgets/controls",
       "_model_module_version": "1.5.0",
       "_model_name": "HTMLModel",
       "_view_count": null,
       "_view_module": "@jupyter-widgets/controls",
       "_view_module_version": "1.5.0",
       "_view_name": "HTMLView",
       "description": "",
       "description_tooltip": null,
       "layout": "IPY_MODEL_021fb65f160345b79e6af64b5a78e2bd",
       "placeholder": "​",
       "style": "IPY_MODEL_7b9e87077e314678807025b6072953df",
       "value": " 515/515 [00:00&lt;00:00, 16.5kB/s]"
      }
     },
     "59fe123025da4a768aed6b0d6c61a2f4": {
      "model_module": "@jupyter-widgets/base",
      "model_module_version": "1.2.0",
      "model_name": "LayoutModel",
      "state": {
       "_model_module": "@jupyter-widgets/base",
       "_model_module_version": "1.2.0",
       "_model_name": "LayoutModel",
       "_view_count": null,
       "_view_module": "@jupyter-widgets/base",
       "_view_module_version": "1.2.0",
       "_view_name": "LayoutView",
       "align_content": null,
       "align_items": null,
       "align_self": null,
       "border": null,
       "bottom": null,
       "display": null,
       "flex": null,
       "flex_flow": null,
       "grid_area": null,
       "grid_auto_columns": null,
       "grid_auto_flow": null,
       "grid_auto_rows": null,
       "grid_column": null,
       "grid_gap": null,
       "grid_row": null,
       "grid_template_areas": null,
       "grid_template_columns": null,
       "grid_template_rows": null,
       "height": null,
       "justify_content": null,
       "justify_items": null,
       "left": null,
       "margin": null,
       "max_height": null,
       "max_width": null,
       "min_height": null,
       "min_width": null,
       "object_fit": null,
       "object_position": null,
       "order": null,
       "overflow": null,
       "overflow_x": null,
       "overflow_y": null,
       "padding": null,
       "right": null,
       "top": null,
       "visibility": null,
       "width": null
      }
     },
     "5e25d6fa9a0d43d2845632c1b3718be4": {
      "model_module": "@jupyter-widgets/base",
      "model_module_version": "1.2.0",
      "model_name": "LayoutModel",
      "state": {
       "_model_module": "@jupyter-widgets/base",
       "_model_module_version": "1.2.0",
       "_model_name": "LayoutModel",
       "_view_count": null,
       "_view_module": "@jupyter-widgets/base",
       "_view_module_version": "1.2.0",
       "_view_name": "LayoutView",
       "align_content": null,
       "align_items": null,
       "align_self": null,
       "border": null,
       "bottom": null,
       "display": null,
       "flex": null,
       "flex_flow": null,
       "grid_area": null,
       "grid_auto_columns": null,
       "grid_auto_flow": null,
       "grid_auto_rows": null,
       "grid_column": null,
       "grid_gap": null,
       "grid_row": null,
       "grid_template_areas": null,
       "grid_template_columns": null,
       "grid_template_rows": null,
       "height": null,
       "justify_content": null,
       "justify_items": null,
       "left": null,
       "margin": null,
       "max_height": null,
       "max_width": null,
       "min_height": null,
       "min_width": null,
       "object_fit": null,
       "object_position": null,
       "order": null,
       "overflow": null,
       "overflow_x": null,
       "overflow_y": null,
       "padding": null,
       "right": null,
       "top": null,
       "visibility": null,
       "width": null
      }
     },
     "61861627c87c42398de1825b8031a8bb": {
      "model_module": "@jupyter-widgets/base",
      "model_module_version": "1.2.0",
      "model_name": "LayoutModel",
      "state": {
       "_model_module": "@jupyter-widgets/base",
       "_model_module_version": "1.2.0",
       "_model_name": "LayoutModel",
       "_view_count": null,
       "_view_module": "@jupyter-widgets/base",
       "_view_module_version": "1.2.0",
       "_view_name": "LayoutView",
       "align_content": null,
       "align_items": null,
       "align_self": null,
       "border": null,
       "bottom": null,
       "display": null,
       "flex": null,
       "flex_flow": null,
       "grid_area": null,
       "grid_auto_columns": null,
       "grid_auto_flow": null,
       "grid_auto_rows": null,
       "grid_column": null,
       "grid_gap": null,
       "grid_row": null,
       "grid_template_areas": null,
       "grid_template_columns": null,
       "grid_template_rows": null,
       "height": null,
       "justify_content": null,
       "justify_items": null,
       "left": null,
       "margin": null,
       "max_height": null,
       "max_width": null,
       "min_height": null,
       "min_width": null,
       "object_fit": null,
       "object_position": null,
       "order": null,
       "overflow": null,
       "overflow_x": null,
       "overflow_y": null,
       "padding": null,
       "right": null,
       "top": null,
       "visibility": null,
       "width": null
      }
     },
     "62099ab1f83f45a2b4bbc714a79e2dfa": {
      "model_module": "@jupyter-widgets/controls",
      "model_module_version": "1.5.0",
      "model_name": "DescriptionStyleModel",
      "state": {
       "_model_module": "@jupyter-widgets/controls",
       "_model_module_version": "1.5.0",
       "_model_name": "DescriptionStyleModel",
       "_view_count": null,
       "_view_module": "@jupyter-widgets/base",
       "_view_module_version": "1.2.0",
       "_view_name": "StyleView",
       "description_width": ""
      }
     },
     "643a74eb9e1245c3ab55e3d426ba3177": {
      "model_module": "@jupyter-widgets/controls",
      "model_module_version": "1.5.0",
      "model_name": "ProgressStyleModel",
      "state": {
       "_model_module": "@jupyter-widgets/controls",
       "_model_module_version": "1.5.0",
       "_model_name": "ProgressStyleModel",
       "_view_count": null,
       "_view_module": "@jupyter-widgets/base",
       "_view_module_version": "1.2.0",
       "_view_name": "StyleView",
       "bar_color": null,
       "description_width": ""
      }
     },
     "74f5c64de7a44221a8f57cc012b6dcc2": {
      "model_module": "@jupyter-widgets/controls",
      "model_module_version": "1.5.0",
      "model_name": "DescriptionStyleModel",
      "state": {
       "_model_module": "@jupyter-widgets/controls",
       "_model_module_version": "1.5.0",
       "_model_name": "DescriptionStyleModel",
       "_view_count": null,
       "_view_module": "@jupyter-widgets/base",
       "_view_module_version": "1.2.0",
       "_view_name": "StyleView",
       "description_width": ""
      }
     },
     "77d8805e458846059b4916a5d99ee80e": {
      "model_module": "@jupyter-widgets/controls",
      "model_module_version": "1.5.0",
      "model_name": "DescriptionStyleModel",
      "state": {
       "_model_module": "@jupyter-widgets/controls",
       "_model_module_version": "1.5.0",
       "_model_name": "DescriptionStyleModel",
       "_view_count": null,
       "_view_module": "@jupyter-widgets/base",
       "_view_module_version": "1.2.0",
       "_view_name": "StyleView",
       "description_width": ""
      }
     },
     "7ad3e8e17956477a9458b946529c8f71": {
      "model_module": "@jupyter-widgets/controls",
      "model_module_version": "1.5.0",
      "model_name": "HBoxModel",
      "state": {
       "_dom_classes": [],
       "_model_module": "@jupyter-widgets/controls",
       "_model_module_version": "1.5.0",
       "_model_name": "HBoxModel",
       "_view_count": null,
       "_view_module": "@jupyter-widgets/controls",
       "_view_module_version": "1.5.0",
       "_view_name": "HBoxView",
       "box_style": "",
       "children": [
        "IPY_MODEL_1e776f0849d4463fbb0c6106d122ac16",
        "IPY_MODEL_4fcf71b541f142d7b233a0af54e2cfb5",
        "IPY_MODEL_a169c508b7db4b69a0286aeffd47fa30"
       ],
       "layout": "IPY_MODEL_f3ba18980ec747fa9e4152a437595e48"
      }
     },
     "7b9e87077e314678807025b6072953df": {
      "model_module": "@jupyter-widgets/controls",
      "model_module_version": "1.5.0",
      "model_name": "DescriptionStyleModel",
      "state": {
       "_model_module": "@jupyter-widgets/controls",
       "_model_module_version": "1.5.0",
       "_model_name": "DescriptionStyleModel",
       "_view_count": null,
       "_view_module": "@jupyter-widgets/base",
       "_view_module_version": "1.2.0",
       "_view_name": "StyleView",
       "description_width": ""
      }
     },
     "7bbdd84327644c7aa1aa3f85a2973aee": {
      "model_module": "@jupyter-widgets/base",
      "model_module_version": "1.2.0",
      "model_name": "LayoutModel",
      "state": {
       "_model_module": "@jupyter-widgets/base",
       "_model_module_version": "1.2.0",
       "_model_name": "LayoutModel",
       "_view_count": null,
       "_view_module": "@jupyter-widgets/base",
       "_view_module_version": "1.2.0",
       "_view_name": "LayoutView",
       "align_content": null,
       "align_items": null,
       "align_self": null,
       "border": null,
       "bottom": null,
       "display": null,
       "flex": null,
       "flex_flow": null,
       "grid_area": null,
       "grid_auto_columns": null,
       "grid_auto_flow": null,
       "grid_auto_rows": null,
       "grid_column": null,
       "grid_gap": null,
       "grid_row": null,
       "grid_template_areas": null,
       "grid_template_columns": null,
       "grid_template_rows": null,
       "height": null,
       "justify_content": null,
       "justify_items": null,
       "left": null,
       "margin": null,
       "max_height": null,
       "max_width": null,
       "min_height": null,
       "min_width": null,
       "object_fit": null,
       "object_position": null,
       "order": null,
       "overflow": null,
       "overflow_x": null,
       "overflow_y": null,
       "padding": null,
       "right": null,
       "top": null,
       "visibility": null,
       "width": null
      }
     },
     "7eebecbd4e744478b6609a71dc83f3b8": {
      "model_module": "@jupyter-widgets/base",
      "model_module_version": "1.2.0",
      "model_name": "LayoutModel",
      "state": {
       "_model_module": "@jupyter-widgets/base",
       "_model_module_version": "1.2.0",
       "_model_name": "LayoutModel",
       "_view_count": null,
       "_view_module": "@jupyter-widgets/base",
       "_view_module_version": "1.2.0",
       "_view_name": "LayoutView",
       "align_content": null,
       "align_items": null,
       "align_self": null,
       "border": null,
       "bottom": null,
       "display": null,
       "flex": null,
       "flex_flow": null,
       "grid_area": null,
       "grid_auto_columns": null,
       "grid_auto_flow": null,
       "grid_auto_rows": null,
       "grid_column": null,
       "grid_gap": null,
       "grid_row": null,
       "grid_template_areas": null,
       "grid_template_columns": null,
       "grid_template_rows": null,
       "height": null,
       "justify_content": null,
       "justify_items": null,
       "left": null,
       "margin": null,
       "max_height": null,
       "max_width": null,
       "min_height": null,
       "min_width": null,
       "object_fit": null,
       "object_position": null,
       "order": null,
       "overflow": null,
       "overflow_x": null,
       "overflow_y": null,
       "padding": null,
       "right": null,
       "top": null,
       "visibility": null,
       "width": null
      }
     },
     "88cf35616e404e64b105873ff95d9a16": {
      "model_module": "@jupyter-widgets/controls",
      "model_module_version": "1.5.0",
      "model_name": "FloatProgressModel",
      "state": {
       "_dom_classes": [],
       "_model_module": "@jupyter-widgets/controls",
       "_model_module_version": "1.5.0",
       "_model_name": "FloatProgressModel",
       "_view_count": null,
       "_view_module": "@jupyter-widgets/controls",
       "_view_module_version": "1.5.0",
       "_view_name": "ProgressView",
       "bar_style": "success",
       "description": "",
       "description_tooltip": null,
       "layout": "IPY_MODEL_d8c255486ac840b1a1780490d9bd97df",
       "max": 435646257,
       "min": 0,
       "orientation": "horizontal",
       "style": "IPY_MODEL_643a74eb9e1245c3ab55e3d426ba3177",
       "value": 435646257
      }
     },
     "9615db5ccd8343898f3e4be2fe9ea337": {
      "model_module": "@jupyter-widgets/controls",
      "model_module_version": "1.5.0",
      "model_name": "ProgressStyleModel",
      "state": {
       "_model_module": "@jupyter-widgets/controls",
       "_model_module_version": "1.5.0",
       "_model_name": "ProgressStyleModel",
       "_view_count": null,
       "_view_module": "@jupyter-widgets/base",
       "_view_module_version": "1.2.0",
       "_view_name": "StyleView",
       "bar_color": null,
       "description_width": ""
      }
     },
     "97cde28180b24290b059fdf2c03ed0a3": {
      "model_module": "@jupyter-widgets/controls",
      "model_module_version": "1.5.0",
      "model_name": "DescriptionStyleModel",
      "state": {
       "_model_module": "@jupyter-widgets/controls",
       "_model_module_version": "1.5.0",
       "_model_name": "DescriptionStyleModel",
       "_view_count": null,
       "_view_module": "@jupyter-widgets/base",
       "_view_module_version": "1.2.0",
       "_view_name": "StyleView",
       "description_width": ""
      }
     },
     "9b2aa50ae5524b759d93e2c2bbe9b22a": {
      "model_module": "@jupyter-widgets/controls",
      "model_module_version": "1.5.0",
      "model_name": "DescriptionStyleModel",
      "state": {
       "_model_module": "@jupyter-widgets/controls",
       "_model_module_version": "1.5.0",
       "_model_name": "DescriptionStyleModel",
       "_view_count": null,
       "_view_module": "@jupyter-widgets/base",
       "_view_module_version": "1.2.0",
       "_view_name": "StyleView",
       "description_width": ""
      }
     },
     "9dd38cd0de8649b2bb224af10361eadc": {
      "model_module": "@jupyter-widgets/controls",
      "model_module_version": "1.5.0",
      "model_name": "HBoxModel",
      "state": {
       "_dom_classes": [],
       "_model_module": "@jupyter-widgets/controls",
       "_model_module_version": "1.5.0",
       "_model_name": "HBoxModel",
       "_view_count": null,
       "_view_module": "@jupyter-widgets/controls",
       "_view_module_version": "1.5.0",
       "_view_name": "HBoxView",
       "box_style": "",
       "children": [
        "IPY_MODEL_5058db61100e42dda578d190642ba3f4",
        "IPY_MODEL_2aa375df2980489cb891be9ead5c693b",
        "IPY_MODEL_fce80d19ca0c4257a26f454dd82b4380"
       ],
       "layout": "IPY_MODEL_1ffbdd5e5d5048a5a054f35433e551a9"
      }
     },
     "9e984c0792f04375b95d40951dd265c6": {
      "model_module": "@jupyter-widgets/controls",
      "model_module_version": "1.5.0",
      "model_name": "HTMLModel",
      "state": {
       "_dom_classes": [],
       "_model_module": "@jupyter-widgets/controls",
       "_model_module_version": "1.5.0",
       "_model_name": "HTMLModel",
       "_view_count": null,
       "_view_module": "@jupyter-widgets/controls",
       "_view_module_version": "1.5.0",
       "_view_name": "HTMLView",
       "description": "",
       "description_tooltip": null,
       "layout": "IPY_MODEL_c1445e84855744d5a943a41a37515d78",
       "placeholder": "​",
       "style": "IPY_MODEL_74f5c64de7a44221a8f57cc012b6dcc2",
       "value": " 695k/695k [00:00&lt;00:00, 960kB/s]"
      }
     },
     "a169c508b7db4b69a0286aeffd47fa30": {
      "model_module": "@jupyter-widgets/controls",
      "model_module_version": "1.5.0",
      "model_name": "HTMLModel",
      "state": {
       "_dom_classes": [],
       "_model_module": "@jupyter-widgets/controls",
       "_model_module_version": "1.5.0",
       "_model_name": "HTMLModel",
       "_view_count": null,
       "_view_module": "@jupyter-widgets/controls",
       "_view_module_version": "1.5.0",
       "_view_name": "HTMLView",
       "description": "",
       "description_tooltip": null,
       "layout": "IPY_MODEL_d70f7807affd4461bfb664160e91b680",
       "placeholder": "​",
       "style": "IPY_MODEL_62099ab1f83f45a2b4bbc714a79e2dfa",
       "value": " 835/835 [00:00&lt;00:00, 28.2kB/s]"
      }
     },
     "a944307224bd486eb6dfa502eeb6f1fd": {
      "model_module": "@jupyter-widgets/base",
      "model_module_version": "1.2.0",
      "model_name": "LayoutModel",
      "state": {
       "_model_module": "@jupyter-widgets/base",
       "_model_module_version": "1.2.0",
       "_model_name": "LayoutModel",
       "_view_count": null,
       "_view_module": "@jupyter-widgets/base",
       "_view_module_version": "1.2.0",
       "_view_name": "LayoutView",
       "align_content": null,
       "align_items": null,
       "align_self": null,
       "border": null,
       "bottom": null,
       "display": null,
       "flex": null,
       "flex_flow": null,
       "grid_area": null,
       "grid_auto_columns": null,
       "grid_auto_flow": null,
       "grid_auto_rows": null,
       "grid_column": null,
       "grid_gap": null,
       "grid_row": null,
       "grid_template_areas": null,
       "grid_template_columns": null,
       "grid_template_rows": null,
       "height": null,
       "justify_content": null,
       "justify_items": null,
       "left": null,
       "margin": null,
       "max_height": null,
       "max_width": null,
       "min_height": null,
       "min_width": null,
       "object_fit": null,
       "object_position": null,
       "order": null,
       "overflow": null,
       "overflow_x": null,
       "overflow_y": null,
       "padding": null,
       "right": null,
       "top": null,
       "visibility": null,
       "width": null
      }
     },
     "b1157c94ac904ae3844b8ce190135806": {
      "model_module": "@jupyter-widgets/base",
      "model_module_version": "1.2.0",
      "model_name": "LayoutModel",
      "state": {
       "_model_module": "@jupyter-widgets/base",
       "_model_module_version": "1.2.0",
       "_model_name": "LayoutModel",
       "_view_count": null,
       "_view_module": "@jupyter-widgets/base",
       "_view_module_version": "1.2.0",
       "_view_name": "LayoutView",
       "align_content": null,
       "align_items": null,
       "align_self": null,
       "border": null,
       "bottom": null,
       "display": null,
       "flex": null,
       "flex_flow": null,
       "grid_area": null,
       "grid_auto_columns": null,
       "grid_auto_flow": null,
       "grid_auto_rows": null,
       "grid_column": null,
       "grid_gap": null,
       "grid_row": null,
       "grid_template_areas": null,
       "grid_template_columns": null,
       "grid_template_rows": null,
       "height": null,
       "justify_content": null,
       "justify_items": null,
       "left": null,
       "margin": null,
       "max_height": null,
       "max_width": null,
       "min_height": null,
       "min_width": null,
       "object_fit": null,
       "object_position": null,
       "order": null,
       "overflow": null,
       "overflow_x": null,
       "overflow_y": null,
       "padding": null,
       "right": null,
       "top": null,
       "visibility": null,
       "width": null
      }
     },
     "b55d1fa0b11946c7a13a6eecbd1de05e": {
      "model_module": "@jupyter-widgets/controls",
      "model_module_version": "1.5.0",
      "model_name": "HTMLModel",
      "state": {
       "_dom_classes": [],
       "_model_module": "@jupyter-widgets/controls",
       "_model_module_version": "1.5.0",
       "_model_name": "HTMLModel",
       "_view_count": null,
       "_view_module": "@jupyter-widgets/controls",
       "_view_module_version": "1.5.0",
       "_view_name": "HTMLView",
       "description": "",
       "description_tooltip": null,
       "layout": "IPY_MODEL_e44076b570d341f48f40240a68fed3a1",
       "placeholder": "​",
       "style": "IPY_MODEL_3aa9990daa9e439a86433f0ed9b60d48",
       "value": "Downloading: 100%"
      }
     },
     "b79872eda1294e5bb95edbb7dc9cc139": {
      "model_module": "@jupyter-widgets/controls",
      "model_module_version": "1.5.0",
      "model_name": "ProgressStyleModel",
      "state": {
       "_model_module": "@jupyter-widgets/controls",
       "_model_module_version": "1.5.0",
       "_model_name": "ProgressStyleModel",
       "_view_count": null,
       "_view_module": "@jupyter-widgets/base",
       "_view_module_version": "1.2.0",
       "_view_name": "StyleView",
       "bar_color": null,
       "description_width": ""
      }
     },
     "c1445e84855744d5a943a41a37515d78": {
      "model_module": "@jupyter-widgets/base",
      "model_module_version": "1.2.0",
      "model_name": "LayoutModel",
      "state": {
       "_model_module": "@jupyter-widgets/base",
       "_model_module_version": "1.2.0",
       "_model_name": "LayoutModel",
       "_view_count": null,
       "_view_module": "@jupyter-widgets/base",
       "_view_module_version": "1.2.0",
       "_view_name": "LayoutView",
       "align_content": null,
       "align_items": null,
       "align_self": null,
       "border": null,
       "bottom": null,
       "display": null,
       "flex": null,
       "flex_flow": null,
       "grid_area": null,
       "grid_auto_columns": null,
       "grid_auto_flow": null,
       "grid_auto_rows": null,
       "grid_column": null,
       "grid_gap": null,
       "grid_row": null,
       "grid_template_areas": null,
       "grid_template_columns": null,
       "grid_template_rows": null,
       "height": null,
       "justify_content": null,
       "justify_items": null,
       "left": null,
       "margin": null,
       "max_height": null,
       "max_width": null,
       "min_height": null,
       "min_width": null,
       "object_fit": null,
       "object_position": null,
       "order": null,
       "overflow": null,
       "overflow_x": null,
       "overflow_y": null,
       "padding": null,
       "right": null,
       "top": null,
       "visibility": null,
       "width": null
      }
     },
     "c1e37b2683be4d92a847f49f1065d483": {
      "model_module": "@jupyter-widgets/controls",
      "model_module_version": "1.5.0",
      "model_name": "ProgressStyleModel",
      "state": {
       "_model_module": "@jupyter-widgets/controls",
       "_model_module_version": "1.5.0",
       "_model_name": "ProgressStyleModel",
       "_view_count": null,
       "_view_module": "@jupyter-widgets/base",
       "_view_module_version": "1.2.0",
       "_view_name": "StyleView",
       "bar_color": null,
       "description_width": ""
      }
     },
     "c554f4b98f9547a69d690cb6f31c0dfc": {
      "model_module": "@jupyter-widgets/controls",
      "model_module_version": "1.5.0",
      "model_name": "HBoxModel",
      "state": {
       "_dom_classes": [],
       "_model_module": "@jupyter-widgets/controls",
       "_model_module_version": "1.5.0",
       "_model_name": "HBoxModel",
       "_view_count": null,
       "_view_module": "@jupyter-widgets/controls",
       "_view_module_version": "1.5.0",
       "_view_name": "HBoxView",
       "box_style": "",
       "children": [
        "IPY_MODEL_f97362073ab9464c8d2f1999640385ac",
        "IPY_MODEL_88cf35616e404e64b105873ff95d9a16",
        "IPY_MODEL_30d0c482d4fd433789b3d34deb168cfd"
       ],
       "layout": "IPY_MODEL_b1157c94ac904ae3844b8ce190135806"
      }
     },
     "cee3845e402a40a690af12d56c295a43": {
      "model_module": "@jupyter-widgets/base",
      "model_module_version": "1.2.0",
      "model_name": "LayoutModel",
      "state": {
       "_model_module": "@jupyter-widgets/base",
       "_model_module_version": "1.2.0",
       "_model_name": "LayoutModel",
       "_view_count": null,
       "_view_module": "@jupyter-widgets/base",
       "_view_module_version": "1.2.0",
       "_view_name": "LayoutView",
       "align_content": null,
       "align_items": null,
       "align_self": null,
       "border": null,
       "bottom": null,
       "display": null,
       "flex": null,
       "flex_flow": null,
       "grid_area": null,
       "grid_auto_columns": null,
       "grid_auto_flow": null,
       "grid_auto_rows": null,
       "grid_column": null,
       "grid_gap": null,
       "grid_row": null,
       "grid_template_areas": null,
       "grid_template_columns": null,
       "grid_template_rows": null,
       "height": null,
       "justify_content": null,
       "justify_items": null,
       "left": null,
       "margin": null,
       "max_height": null,
       "max_width": null,
       "min_height": null,
       "min_width": null,
       "object_fit": null,
       "object_position": null,
       "order": null,
       "overflow": null,
       "overflow_x": null,
       "overflow_y": null,
       "padding": null,
       "right": null,
       "top": null,
       "visibility": null,
       "width": null
      }
     },
     "d13c0378876240d8b357464b176acad8": {
      "model_module": "@jupyter-widgets/base",
      "model_module_version": "1.2.0",
      "model_name": "LayoutModel",
      "state": {
       "_model_module": "@jupyter-widgets/base",
       "_model_module_version": "1.2.0",
       "_model_name": "LayoutModel",
       "_view_count": null,
       "_view_module": "@jupyter-widgets/base",
       "_view_module_version": "1.2.0",
       "_view_name": "LayoutView",
       "align_content": null,
       "align_items": null,
       "align_self": null,
       "border": null,
       "bottom": null,
       "display": null,
       "flex": null,
       "flex_flow": null,
       "grid_area": null,
       "grid_auto_columns": null,
       "grid_auto_flow": null,
       "grid_auto_rows": null,
       "grid_column": null,
       "grid_gap": null,
       "grid_row": null,
       "grid_template_areas": null,
       "grid_template_columns": null,
       "grid_template_rows": null,
       "height": null,
       "justify_content": null,
       "justify_items": null,
       "left": null,
       "margin": null,
       "max_height": null,
       "max_width": null,
       "min_height": null,
       "min_width": null,
       "object_fit": null,
       "object_position": null,
       "order": null,
       "overflow": null,
       "overflow_x": null,
       "overflow_y": null,
       "padding": null,
       "right": null,
       "top": null,
       "visibility": null,
       "width": null
      }
     },
     "d70f7807affd4461bfb664160e91b680": {
      "model_module": "@jupyter-widgets/base",
      "model_module_version": "1.2.0",
      "model_name": "LayoutModel",
      "state": {
       "_model_module": "@jupyter-widgets/base",
       "_model_module_version": "1.2.0",
       "_model_name": "LayoutModel",
       "_view_count": null,
       "_view_module": "@jupyter-widgets/base",
       "_view_module_version": "1.2.0",
       "_view_name": "LayoutView",
       "align_content": null,
       "align_items": null,
       "align_self": null,
       "border": null,
       "bottom": null,
       "display": null,
       "flex": null,
       "flex_flow": null,
       "grid_area": null,
       "grid_auto_columns": null,
       "grid_auto_flow": null,
       "grid_auto_rows": null,
       "grid_column": null,
       "grid_gap": null,
       "grid_row": null,
       "grid_template_areas": null,
       "grid_template_columns": null,
       "grid_template_rows": null,
       "height": null,
       "justify_content": null,
       "justify_items": null,
       "left": null,
       "margin": null,
       "max_height": null,
       "max_width": null,
       "min_height": null,
       "min_width": null,
       "object_fit": null,
       "object_position": null,
       "order": null,
       "overflow": null,
       "overflow_x": null,
       "overflow_y": null,
       "padding": null,
       "right": null,
       "top": null,
       "visibility": null,
       "width": null
      }
     },
     "d8c255486ac840b1a1780490d9bd97df": {
      "model_module": "@jupyter-widgets/base",
      "model_module_version": "1.2.0",
      "model_name": "LayoutModel",
      "state": {
       "_model_module": "@jupyter-widgets/base",
       "_model_module_version": "1.2.0",
       "_model_name": "LayoutModel",
       "_view_count": null,
       "_view_module": "@jupyter-widgets/base",
       "_view_module_version": "1.2.0",
       "_view_name": "LayoutView",
       "align_content": null,
       "align_items": null,
       "align_self": null,
       "border": null,
       "bottom": null,
       "display": null,
       "flex": null,
       "flex_flow": null,
       "grid_area": null,
       "grid_auto_columns": null,
       "grid_auto_flow": null,
       "grid_auto_rows": null,
       "grid_column": null,
       "grid_gap": null,
       "grid_row": null,
       "grid_template_areas": null,
       "grid_template_columns": null,
       "grid_template_rows": null,
       "height": null,
       "justify_content": null,
       "justify_items": null,
       "left": null,
       "margin": null,
       "max_height": null,
       "max_width": null,
       "min_height": null,
       "min_width": null,
       "object_fit": null,
       "object_position": null,
       "order": null,
       "overflow": null,
       "overflow_x": null,
       "overflow_y": null,
       "padding": null,
       "right": null,
       "top": null,
       "visibility": null,
       "width": null
      }
     },
     "da3cb9c6244e4c99b2977af5709d8ccb": {
      "model_module": "@jupyter-widgets/controls",
      "model_module_version": "1.5.0",
      "model_name": "DescriptionStyleModel",
      "state": {
       "_model_module": "@jupyter-widgets/controls",
       "_model_module_version": "1.5.0",
       "_model_name": "DescriptionStyleModel",
       "_view_count": null,
       "_view_module": "@jupyter-widgets/base",
       "_view_module_version": "1.2.0",
       "_view_name": "StyleView",
       "description_width": ""
      }
     },
     "dd204ec523e54af1a86b9bc5df613b85": {
      "model_module": "@jupyter-widgets/base",
      "model_module_version": "1.2.0",
      "model_name": "LayoutModel",
      "state": {
       "_model_module": "@jupyter-widgets/base",
       "_model_module_version": "1.2.0",
       "_model_name": "LayoutModel",
       "_view_count": null,
       "_view_module": "@jupyter-widgets/base",
       "_view_module_version": "1.2.0",
       "_view_name": "LayoutView",
       "align_content": null,
       "align_items": null,
       "align_self": null,
       "border": null,
       "bottom": null,
       "display": null,
       "flex": null,
       "flex_flow": null,
       "grid_area": null,
       "grid_auto_columns": null,
       "grid_auto_flow": null,
       "grid_auto_rows": null,
       "grid_column": null,
       "grid_gap": null,
       "grid_row": null,
       "grid_template_areas": null,
       "grid_template_columns": null,
       "grid_template_rows": null,
       "height": null,
       "justify_content": null,
       "justify_items": null,
       "left": null,
       "margin": null,
       "max_height": null,
       "max_width": null,
       "min_height": null,
       "min_width": null,
       "object_fit": null,
       "object_position": null,
       "order": null,
       "overflow": null,
       "overflow_x": null,
       "overflow_y": null,
       "padding": null,
       "right": null,
       "top": null,
       "visibility": null,
       "width": null
      }
     },
     "e2211f7a4abd40a28afa2ba2514cee7a": {
      "model_module": "@jupyter-widgets/controls",
      "model_module_version": "1.5.0",
      "model_name": "HBoxModel",
      "state": {
       "_dom_classes": [],
       "_model_module": "@jupyter-widgets/controls",
       "_model_module_version": "1.5.0",
       "_model_name": "HBoxModel",
       "_view_count": null,
       "_view_module": "@jupyter-widgets/controls",
       "_view_module_version": "1.5.0",
       "_view_name": "HBoxView",
       "box_style": "",
       "children": [
        "IPY_MODEL_29e5803bee3c449fa1f52eee554793a0",
        "IPY_MODEL_25a7ab9e8784438988006c373c14e231",
        "IPY_MODEL_126cf86391e54bccbe9ebc7ea02b5eb8"
       ],
       "layout": "IPY_MODEL_7bbdd84327644c7aa1aa3f85a2973aee"
      }
     },
     "e44076b570d341f48f40240a68fed3a1": {
      "model_module": "@jupyter-widgets/base",
      "model_module_version": "1.2.0",
      "model_name": "LayoutModel",
      "state": {
       "_model_module": "@jupyter-widgets/base",
       "_model_module_version": "1.2.0",
       "_model_name": "LayoutModel",
       "_view_count": null,
       "_view_module": "@jupyter-widgets/base",
       "_view_module_version": "1.2.0",
       "_view_name": "LayoutView",
       "align_content": null,
       "align_items": null,
       "align_self": null,
       "border": null,
       "bottom": null,
       "display": null,
       "flex": null,
       "flex_flow": null,
       "grid_area": null,
       "grid_auto_columns": null,
       "grid_auto_flow": null,
       "grid_auto_rows": null,
       "grid_column": null,
       "grid_gap": null,
       "grid_row": null,
       "grid_template_areas": null,
       "grid_template_columns": null,
       "grid_template_rows": null,
       "height": null,
       "justify_content": null,
       "justify_items": null,
       "left": null,
       "margin": null,
       "max_height": null,
       "max_width": null,
       "min_height": null,
       "min_width": null,
       "object_fit": null,
       "object_position": null,
       "order": null,
       "overflow": null,
       "overflow_x": null,
       "overflow_y": null,
       "padding": null,
       "right": null,
       "top": null,
       "visibility": null,
       "width": null
      }
     },
     "f3ba18980ec747fa9e4152a437595e48": {
      "model_module": "@jupyter-widgets/base",
      "model_module_version": "1.2.0",
      "model_name": "LayoutModel",
      "state": {
       "_model_module": "@jupyter-widgets/base",
       "_model_module_version": "1.2.0",
       "_model_name": "LayoutModel",
       "_view_count": null,
       "_view_module": "@jupyter-widgets/base",
       "_view_module_version": "1.2.0",
       "_view_name": "LayoutView",
       "align_content": null,
       "align_items": null,
       "align_self": null,
       "border": null,
       "bottom": null,
       "display": null,
       "flex": null,
       "flex_flow": null,
       "grid_area": null,
       "grid_auto_columns": null,
       "grid_auto_flow": null,
       "grid_auto_rows": null,
       "grid_column": null,
       "grid_gap": null,
       "grid_row": null,
       "grid_template_areas": null,
       "grid_template_columns": null,
       "grid_template_rows": null,
       "height": null,
       "justify_content": null,
       "justify_items": null,
       "left": null,
       "margin": null,
       "max_height": null,
       "max_width": null,
       "min_height": null,
       "min_width": null,
       "object_fit": null,
       "object_position": null,
       "order": null,
       "overflow": null,
       "overflow_x": null,
       "overflow_y": null,
       "padding": null,
       "right": null,
       "top": null,
       "visibility": null,
       "width": null
      }
     },
     "f5d5fbd465f54f99a60753237e78aad2": {
      "model_module": "@jupyter-widgets/controls",
      "model_module_version": "1.5.0",
      "model_name": "ProgressStyleModel",
      "state": {
       "_model_module": "@jupyter-widgets/controls",
       "_model_module_version": "1.5.0",
       "_model_name": "ProgressStyleModel",
       "_view_count": null,
       "_view_module": "@jupyter-widgets/base",
       "_view_module_version": "1.2.0",
       "_view_name": "StyleView",
       "bar_color": null,
       "description_width": ""
      }
     },
     "f97362073ab9464c8d2f1999640385ac": {
      "model_module": "@jupyter-widgets/controls",
      "model_module_version": "1.5.0",
      "model_name": "HTMLModel",
      "state": {
       "_dom_classes": [],
       "_model_module": "@jupyter-widgets/controls",
       "_model_module_version": "1.5.0",
       "_model_name": "HTMLModel",
       "_view_count": null,
       "_view_module": "@jupyter-widgets/controls",
       "_view_module_version": "1.5.0",
       "_view_name": "HTMLView",
       "description": "",
       "description_tooltip": null,
       "layout": "IPY_MODEL_61861627c87c42398de1825b8031a8bb",
       "placeholder": "​",
       "style": "IPY_MODEL_1fe2ec01eb534a448af62ce0ddce9ee9",
       "value": "Downloading: 100%"
      }
     },
     "fa48a0f13c74401a811ff04ebb038598": {
      "model_module": "@jupyter-widgets/controls",
      "model_module_version": "1.5.0",
      "model_name": "HBoxModel",
      "state": {
       "_dom_classes": [],
       "_model_module": "@jupyter-widgets/controls",
       "_model_module_version": "1.5.0",
       "_model_name": "HBoxModel",
       "_view_count": null,
       "_view_module": "@jupyter-widgets/controls",
       "_view_module_version": "1.5.0",
       "_view_name": "HBoxView",
       "box_style": "",
       "children": [
        "IPY_MODEL_16635f207b144dc487956c6782618ec2",
        "IPY_MODEL_fecd3ae2a0ee45759edc39f601d8dc5c",
        "IPY_MODEL_50c4a3f28fa24ec6aeb4bac367541746"
       ],
       "layout": "IPY_MODEL_2d5fa7f290a443aa86f0d69c5261015e"
      }
     },
     "fce80d19ca0c4257a26f454dd82b4380": {
      "model_module": "@jupyter-widgets/controls",
      "model_module_version": "1.5.0",
      "model_name": "HTMLModel",
      "state": {
       "_dom_classes": [],
       "_model_module": "@jupyter-widgets/controls",
       "_model_module_version": "1.5.0",
       "_model_name": "HTMLModel",
       "_view_count": null,
       "_view_module": "@jupyter-widgets/controls",
       "_view_module_version": "1.5.0",
       "_view_name": "HTMLView",
       "description": "",
       "description_tooltip": null,
       "layout": "IPY_MODEL_59fe123025da4a768aed6b0d6c61a2f4",
       "placeholder": "​",
       "style": "IPY_MODEL_9b2aa50ae5524b759d93e2c2bbe9b22a",
       "value": " 226k/226k [00:00&lt;00:00, 809kB/s]"
      }
     },
     "fecd3ae2a0ee45759edc39f601d8dc5c": {
      "model_module": "@jupyter-widgets/controls",
      "model_module_version": "1.5.0",
      "model_name": "FloatProgressModel",
      "state": {
       "_dom_classes": [],
       "_model_module": "@jupyter-widgets/controls",
       "_model_module_version": "1.5.0",
       "_model_name": "FloatProgressModel",
       "_view_count": null,
       "_view_module": "@jupyter-widgets/controls",
       "_view_module_version": "1.5.0",
       "_view_name": "ProgressView",
       "bar_style": "success",
       "description": "",
       "description_tooltip": null,
       "layout": "IPY_MODEL_5e25d6fa9a0d43d2845632c1b3718be4",
       "max": 515,
       "min": 0,
       "orientation": "horizontal",
       "style": "IPY_MODEL_f5d5fbd465f54f99a60753237e78aad2",
       "value": 515
      }
     }
    },
    "version_major": 2,
    "version_minor": 0
   }
  }
 },
 "nbformat": 4,
 "nbformat_minor": 5
}
