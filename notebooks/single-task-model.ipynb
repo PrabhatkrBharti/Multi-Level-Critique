{
 "cells": [
  {
   "cell_type": "code",
   "execution_count": null,
   "id": "d2f7a057",
   "metadata": {
    "_cell_guid": "b1076dfc-b9ad-4769-8c92-a6c4dae69d19",
    "_uuid": "8f2839f25d086af736a60e9eeb907d3b93b6e0e5",
    "execution": {
     "iopub.execute_input": "2022-12-26T17:15:52.475828Z",
     "iopub.status.busy": "2022-12-26T17:15:52.475240Z",
     "iopub.status.idle": "2022-12-26T17:16:46.658953Z",
     "shell.execute_reply": "2022-12-26T17:16:46.657780Z"
    },
    "papermill": {
     "duration": 54.205652,
     "end_time": "2022-12-26T17:16:46.661588",
     "exception": false,
     "start_time": "2022-12-26T17:15:52.455936",
     "status": "completed"
    },
    "tags": []
   },
   "outputs": [],
   "source": [
    "!pip install pretty-confusion-matrix\n",
    "!pip install transformers\n",
    "!pip install pytorch-transformers\n",
    "!pip install -U sentence-transformers"
   ]
  },
  {
   "cell_type": "code",
   "execution_count": null,
   "id": "5b57b6db",
   "metadata": {
    "execution": {
     "iopub.execute_input": "2022-12-26T17:16:46.690601Z",
     "iopub.status.busy": "2022-12-26T17:16:46.689659Z",
     "iopub.status.idle": "2022-12-26T17:16:46.694955Z",
     "shell.execute_reply": "2022-12-26T17:16:46.694094Z"
    },
    "papermill": {
     "duration": 0.022484,
     "end_time": "2022-12-26T17:16:46.696937",
     "exception": false,
     "start_time": "2022-12-26T17:16:46.674453",
     "status": "completed"
    },
    "tags": []
   },
   "outputs": [],
   "source": [
    "import numpy as np \n",
    "import pandas as pd \n",
    "import csv\n",
    "import pickle\n",
    "import matplotlib.pyplot as plt"
   ]
  },
  {
   "cell_type": "code",
   "execution_count": null,
   "id": "020f0927",
   "metadata": {
    "execution": {
     "iopub.execute_input": "2022-12-26T17:16:46.723659Z",
     "iopub.status.busy": "2022-12-26T17:16:46.722805Z",
     "iopub.status.idle": "2022-12-26T17:16:51.426936Z",
     "shell.execute_reply": "2022-12-26T17:16:51.425982Z"
    },
    "papermill": {
     "duration": 4.72028,
     "end_time": "2022-12-26T17:16:51.429486",
     "exception": false,
     "start_time": "2022-12-26T17:16:46.709206",
     "status": "completed"
    },
    "tags": []
   },
   "outputs": [],
   "source": [
    "import tensorflow as tf\n",
    "from keras.layers import Bidirectional, Input, Dense, Layer, Dropout, LSTM, RepeatVector, Concatenate, Flatten\n",
    "from keras.models import Sequential, Model\n",
    "from tensorflow.python.keras.callbacks import EarlyStopping\n",
    "from keras import backend as K"
   ]
  },
  {
   "cell_type": "code",
   "execution_count": null,
   "id": "af63b94b",
   "metadata": {
    "execution": {
     "iopub.execute_input": "2022-12-26T17:16:51.457089Z",
     "iopub.status.busy": "2022-12-26T17:16:51.455331Z",
     "iopub.status.idle": "2022-12-26T17:16:51.462179Z",
     "shell.execute_reply": "2022-12-26T17:16:51.460790Z"
    },
    "papermill": {
     "duration": 0.022468,
     "end_time": "2022-12-26T17:16:51.464638",
     "exception": false,
     "start_time": "2022-12-26T17:16:51.442170",
     "status": "completed"
    },
    "tags": []
   },
   "outputs": [],
   "source": [
    "print(tf.__version__)"
   ]
  },
  {
   "cell_type": "code",
   "execution_count": null,
   "id": "1ed0d278",
   "metadata": {
    "execution": {
     "iopub.execute_input": "2022-12-26T17:16:51.491027Z",
     "iopub.status.busy": "2022-12-26T17:16:51.490668Z",
     "iopub.status.idle": "2022-12-26T17:16:51.496208Z",
     "shell.execute_reply": "2022-12-26T17:16:51.495183Z"
    },
    "papermill": {
     "duration": 0.020816,
     "end_time": "2022-12-26T17:16:51.498378",
     "exception": false,
     "start_time": "2022-12-26T17:16:51.477562",
     "status": "completed"
    },
    "tags": []
   },
   "outputs": [],
   "source": [
    "### HYPERPARAMETERS\n",
    "CONSTRUCTIVENESS_LEVELS = 5\n",
    "POLITENESS_LEVELS = 3\n",
    "EPOCHS = 20\n",
    "MAXLEN = 768  # Since EMBEDDING LAYER returns 768 embeddings vector\n",
    "LSTM_UNITS = 256\n",
    "VOCAB_LEN = 1853\n",
    "EMBEDDING_DIMENSION = 300\n",
    "\n",
    "# FLAG\n",
    "is_BiLSTM = True # Flag to automate other pre-processing for With or Without BiLSTM variants\n",
    "\n",
    "# LABELS \n",
    "constructive_labels = ['HNC', 'NC', 'NN', 'C', 'HC']\n",
    "politeness_labels = ['IMP', 'NP', 'P']\n",
    "\n",
    "## ADD PATH OF THE PRE-TRAINED MODEL HERE ##\n",
    "SAVE_PATH = \"./Baselines-Single-Task-Model.h5\" "
   ]
  },
  {
   "attachments": {},
   "cell_type": "markdown",
   "id": "beec2134",
   "metadata": {
    "papermill": {
     "duration": 0.01183,
     "end_time": "2022-12-26T17:16:51.522379",
     "exception": false,
     "start_time": "2022-12-26T17:16:51.510549",
     "status": "completed"
    },
    "tags": []
   },
   "source": [
    "## EMBEDDING LAYER"
   ]
  },
  {
   "cell_type": "code",
   "execution_count": null,
   "id": "64e91986",
   "metadata": {
    "execution": {
     "iopub.execute_input": "2022-12-26T17:16:51.547987Z",
     "iopub.status.busy": "2022-12-26T17:16:51.547641Z",
     "iopub.status.idle": "2022-12-26T17:16:51.552381Z",
     "shell.execute_reply": "2022-12-26T17:16:51.551362Z"
    },
    "papermill": {
     "duration": 0.020278,
     "end_time": "2022-12-26T17:16:51.554736",
     "exception": false,
     "start_time": "2022-12-26T17:16:51.534458",
     "status": "completed"
    },
    "tags": []
   },
   "outputs": [],
   "source": [
    "## SCI-BERT \n",
    "name = 'SCIBERT'\n",
    "embed_model_name = 'gsarti/scibert-nli'"
   ]
  },
  {
   "cell_type": "markdown",
   "id": "f19d7d1a",
   "metadata": {
    "papermill": {
     "duration": 0.012493,
     "end_time": "2022-12-26T17:16:51.579430",
     "exception": false,
     "start_time": "2022-12-26T17:16:51.566937",
     "status": "completed"
    },
    "tags": []
   },
   "source": [
    "# LOAD DATASET"
   ]
  },
  {
   "cell_type": "code",
   "execution_count": null,
   "id": "244b2213",
   "metadata": {
    "execution": {
     "iopub.execute_input": "2022-12-26T17:16:51.605735Z",
     "iopub.status.busy": "2022-12-26T17:16:51.605391Z",
     "iopub.status.idle": "2022-12-26T17:16:51.612969Z",
     "shell.execute_reply": "2022-12-26T17:16:51.611994Z"
    },
    "papermill": {
     "duration": 0.023208,
     "end_time": "2022-12-26T17:16:51.615008",
     "exception": false,
     "start_time": "2022-12-26T17:16:51.591800",
     "status": "completed"
    },
    "tags": []
   },
   "outputs": [],
   "source": [
    "# LOAD EMBEDS DATASET\n",
    "\n",
    "def loadPickle(name):\n",
    "    ## ADD YOUR BASE PATH TO OUR UR. EXAMPLE : ##\n",
    "    # BASE_PATH = '../iitpolitenesslevels-DATASET/'\n",
    "    BASE_PATH =''\n",
    "    \n",
    "    LOAD_PATH = BASE_PATH+name+'_train.pickle'\n",
    "    with open(LOAD_PATH, 'rb') as handle:\n",
    "        train_embeds = pickle.load(handle)\n",
    "        handle.close()\n",
    "\n",
    "    LOAD_PATH = BASE_PATH+name+'_test.pickle'\n",
    "    with open(LOAD_PATH, 'rb') as handle:\n",
    "        test_embeds = pickle.load(handle)\n",
    "        handle.close()\n",
    "\n",
    "    LOAD_PATH = BASE_PATH+name+'_val.pickle'\n",
    "    with open(LOAD_PATH, 'rb') as handle:\n",
    "        val_embeds = pickle.load(handle)\n",
    "        handle.close()\n",
    "\n",
    "    y_train = pd.read_csv(BASE_PATH+'y_train.csv')\n",
    "    y_val = pd.read_csv(BASE_PATH+'y_val.csv')\n",
    "    y_test = pd.read_csv(BASE_PATH+'y_test.csv')\n",
    "\n",
    "    print('\\n***** LOADED '+ name+' *****\\n')\n",
    "    print(f'TRAIN SHAPE : {train_embeds.shape}\\nTEST SHAPE : {test_embeds.shape}\\nVAL SHAPE : {val_embeds.shape}\\nY-TRAIN SHAPE : {y_train.shape}\\nY-TEST SHAPE : {y_test.shape}\\nY-VAL SHAPE : {y_val.shape}')\n",
    "\n",
    "    return train_embeds, test_embeds, val_embeds, y_train, y_test, y_val"
   ]
  },
  {
   "cell_type": "code",
   "execution_count": null,
   "id": "2b2ee7c3",
   "metadata": {
    "execution": {
     "iopub.execute_input": "2022-12-26T17:16:51.642195Z",
     "iopub.status.busy": "2022-12-26T17:16:51.641154Z",
     "iopub.status.idle": "2022-12-26T17:16:54.732387Z",
     "shell.execute_reply": "2022-12-26T17:16:54.731460Z"
    },
    "papermill": {
     "duration": 3.107124,
     "end_time": "2022-12-26T17:16:54.734587",
     "exception": false,
     "start_time": "2022-12-26T17:16:51.627463",
     "status": "completed"
    },
    "tags": []
   },
   "outputs": [],
   "source": [
    "train_embeds, test_embeds, val_embeds, y_train, y_test, y_val = loadPickle(name)"
   ]
  },
  {
   "cell_type": "code",
   "execution_count": null,
   "id": "02faa872",
   "metadata": {
    "execution": {
     "iopub.execute_input": "2022-12-26T17:16:54.762393Z",
     "iopub.status.busy": "2022-12-26T17:16:54.760734Z",
     "iopub.status.idle": "2022-12-26T17:16:54.778559Z",
     "shell.execute_reply": "2022-12-26T17:16:54.777495Z"
    },
    "papermill": {
     "duration": 0.03368,
     "end_time": "2022-12-26T17:16:54.780996",
     "exception": false,
     "start_time": "2022-12-26T17:16:54.747316",
     "status": "completed"
    },
    "tags": []
   },
   "outputs": [],
   "source": [
    "y_train.head()"
   ]
  },
  {
   "cell_type": "markdown",
   "id": "3858bdc4",
   "metadata": {
    "papermill": {
     "duration": 0.012392,
     "end_time": "2022-12-26T17:16:54.805860",
     "exception": false,
     "start_time": "2022-12-26T17:16:54.793468",
     "status": "completed"
    },
    "tags": []
   },
   "source": [
    "### LOAD EMBEDDING MODEL"
   ]
  },
  {
   "cell_type": "code",
   "execution_count": null,
   "id": "e49ec5a9",
   "metadata": {
    "execution": {
     "iopub.execute_input": "2022-12-26T17:16:54.831753Z",
     "iopub.status.busy": "2022-12-26T17:16:54.831485Z",
     "iopub.status.idle": "2022-12-26T17:16:59.132303Z",
     "shell.execute_reply": "2022-12-26T17:16:59.131352Z"
    },
    "papermill": {
     "duration": 4.31644,
     "end_time": "2022-12-26T17:16:59.134666",
     "exception": false,
     "start_time": "2022-12-26T17:16:54.818226",
     "status": "completed"
    },
    "tags": []
   },
   "outputs": [],
   "source": [
    "from transformers import pipeline, AutoTokenizer, AutoModel"
   ]
  },
  {
   "cell_type": "code",
   "execution_count": null,
   "id": "4baadaff",
   "metadata": {
    "execution": {
     "iopub.execute_input": "2022-12-26T17:16:59.161908Z",
     "iopub.status.busy": "2022-12-26T17:16:59.161584Z",
     "iopub.status.idle": "2022-12-26T17:16:59.166347Z",
     "shell.execute_reply": "2022-12-26T17:16:59.165296Z"
    },
    "papermill": {
     "duration": 0.020742,
     "end_time": "2022-12-26T17:16:59.168673",
     "exception": false,
     "start_time": "2022-12-26T17:16:59.147931",
     "status": "completed"
    },
    "tags": []
   },
   "outputs": [],
   "source": [
    "if not is_BiLSTM:\n",
    "    tokenizer = AutoTokenizer.from_pretrained(embed_model_name) \n",
    "    embed_model = AutoModel.from_pretrained(embed_model_name)"
   ]
  },
  {
   "cell_type": "code",
   "execution_count": null,
   "id": "55025b1d",
   "metadata": {
    "execution": {
     "iopub.execute_input": "2022-12-26T17:16:59.198665Z",
     "iopub.status.busy": "2022-12-26T17:16:59.198369Z",
     "iopub.status.idle": "2022-12-26T17:16:59.205187Z",
     "shell.execute_reply": "2022-12-26T17:16:59.204117Z"
    },
    "papermill": {
     "duration": 0.026095,
     "end_time": "2022-12-26T17:16:59.207263",
     "exception": false,
     "start_time": "2022-12-26T17:16:59.181168",
     "status": "completed"
    },
    "tags": []
   },
   "outputs": [],
   "source": [
    "def sent2embed(model, sent):\n",
    "    inputs = tokenizer(sent, return_tensors=\"pt\", padding=True, truncation=True, max_length=512)\n",
    "    outputs = model(**inputs)\n",
    "    last_hidden_states = outputs.last_hidden_state\n",
    "    return outputs\n",
    "\n",
    "# SAMPLE\n",
    "if not is_BiLSTM:\n",
    "    sent = ['This work studies the predictive uncertainty issue of deep learning models.']\n",
    "    outputs = sent2embed(embed_model, sent)\n",
    "    outputs[1].shape\n"
   ]
  },
  {
   "cell_type": "code",
   "execution_count": null,
   "id": "f677e9d1",
   "metadata": {
    "execution": {
     "iopub.execute_input": "2022-12-26T17:16:59.236267Z",
     "iopub.status.busy": "2022-12-26T17:16:59.235373Z",
     "iopub.status.idle": "2022-12-26T17:16:59.241988Z",
     "shell.execute_reply": "2022-12-26T17:16:59.241077Z"
    },
    "papermill": {
     "duration": 0.023217,
     "end_time": "2022-12-26T17:16:59.244056",
     "exception": false,
     "start_time": "2022-12-26T17:16:59.220839",
     "status": "completed"
    },
    "tags": []
   },
   "outputs": [],
   "source": [
    "# PRE-PROCESS\n",
    "def Embed(reviews, y_train, model):\n",
    "    embed_arr = []\n",
    "    start = reviews.index[0]\n",
    "    for idx in range(len(reviews.index)):\n",
    "        print(start + idx)\n",
    "        outputs = sent2embed(model, reviews.loc[start+idx])\n",
    "        embed_arr.append([outputs[1].detach().numpy()[0]])\n",
    "\n",
    "    embed_train_arr = tf.stack(embed_arr)\n",
    "\n",
    "    return embed_train_arr, y_train"
   ]
  },
  {
   "cell_type": "markdown",
   "id": "f82ee376",
   "metadata": {
    "papermill": {
     "duration": 0.012893,
     "end_time": "2022-12-26T17:16:59.270057",
     "exception": false,
     "start_time": "2022-12-26T17:16:59.257164",
     "status": "completed"
    },
    "tags": []
   },
   "source": [
    "# MODEL\n",
    "\n",
    "### ATTENTION LAYER"
   ]
  },
  {
   "cell_type": "code",
   "execution_count": null,
   "id": "10759393",
   "metadata": {
    "execution": {
     "iopub.execute_input": "2022-12-26T17:16:59.297564Z",
     "iopub.status.busy": "2022-12-26T17:16:59.297304Z",
     "iopub.status.idle": "2022-12-26T17:16:59.305606Z",
     "shell.execute_reply": "2022-12-26T17:16:59.304661Z"
    },
    "papermill": {
     "duration": 0.024432,
     "end_time": "2022-12-26T17:16:59.307516",
     "exception": false,
     "start_time": "2022-12-26T17:16:59.283084",
     "status": "completed"
    },
    "tags": []
   },
   "outputs": [],
   "source": [
    "class Attention(Layer):\n",
    "    \n",
    "    def __init__(self, return_sequences=True, **kwargs):\n",
    "        super(Attention,self).__init__()\n",
    "        self.return_sequences = return_sequences\n",
    "        super(Attention, self).__init__(**kwargs)\n",
    "\n",
    "    def get_config(self):\n",
    "        config = super(Attention, self).get_config().copy()\n",
    "        config.update({\n",
    "            'return_sequences': self.return_sequences , \n",
    "        })\n",
    "        return config\n",
    "\n",
    "\n",
    "    def build(self, input_shape):\n",
    "        \n",
    "        self.W=self.add_weight(name=\"att_weight\", shape=(input_shape[-1],1),\n",
    "                               initializer=\"normal\")\n",
    "        self.b=self.add_weight(name=\"att_bias\", shape=(input_shape[1],1),\n",
    "                               initializer=\"zeros\")\n",
    "        \n",
    "        super(Attention,self).build(input_shape)\n",
    "        \n",
    "    def call(self, x):\n",
    "        e =K.squeeze(K.tanh(K.dot(x,self.W)+self.b),axis=-1)\n",
    "        a =K.softmax(e)\n",
    "        a=K.expand_dims(a,axis=-1)\n",
    "        output = x*a\n",
    "        \n",
    "        return K.sum(output, axis=1) "
   ]
  },
  {
   "cell_type": "code",
   "execution_count": null,
   "id": "abd31ce1",
   "metadata": {
    "execution": {
     "iopub.execute_input": "2022-12-26T17:16:59.334113Z",
     "iopub.status.busy": "2022-12-26T17:16:59.333366Z",
     "iopub.status.idle": "2022-12-26T17:16:59.338753Z",
     "shell.execute_reply": "2022-12-26T17:16:59.337949Z"
    },
    "papermill": {
     "duration": 0.020785,
     "end_time": "2022-12-26T17:16:59.340657",
     "exception": false,
     "start_time": "2022-12-26T17:16:59.319872",
     "status": "completed"
    },
    "tags": []
   },
   "outputs": [],
   "source": [
    "if not is_BiLSTM:\n",
    "    ## ONLY IF BiLSTM NOT there -- REDUCE DIMENSION OF DATASET BY 1DIM \n",
    "    train_embeds = np.array([row[0] for row in train_embeds ])\n",
    "    test_embeds = np.array([row[0] for row in test_embeds ])\n",
    "    val_embeds = np.array([row[0] for row in val_embeds ])\n"
   ]
  },
  {
   "cell_type": "markdown",
   "id": "d09b7830",
   "metadata": {
    "papermill": {
     "duration": 0.012398,
     "end_time": "2022-12-26T17:16:59.365530",
     "exception": false,
     "start_time": "2022-12-26T17:16:59.353132",
     "status": "completed"
    },
    "tags": []
   },
   "source": [
    "## SINGLE TASK MODEL"
   ]
  },
  {
   "cell_type": "code",
   "execution_count": null,
   "id": "e4506f65",
   "metadata": {
    "execution": {
     "iopub.execute_input": "2022-12-26T17:16:59.392120Z",
     "iopub.status.busy": "2022-12-26T17:16:59.391356Z",
     "iopub.status.idle": "2022-12-26T17:17:02.776347Z",
     "shell.execute_reply": "2022-12-26T17:17:02.775269Z"
    },
    "papermill": {
     "duration": 3.401292,
     "end_time": "2022-12-26T17:17:02.779298",
     "exception": false,
     "start_time": "2022-12-26T17:16:59.378006",
     "status": "completed"
    },
    "tags": []
   },
   "outputs": [],
   "source": [
    "embed = Input(shape = (None, MAXLEN), name='INPUT') # with BiLSTM\n",
    "\n",
    "biLSTM = Bidirectional(LSTM(LSTM_UNITS , return_sequences=False) , name='BILSTM' )(embed)\n",
    "repeat_op = RepeatVector(1)(biLSTM)\n",
    "\n",
    "# __________________ #\n",
    "\n",
    "## ATTENTION \n",
    "attentions=[]\n",
    "for i in range(CONSTRUCTIVENESS_LEVELS):\n",
    "  x = Attention(return_sequences=False)(repeat_op)\n",
    "  attentions.append(x)\n",
    "\n",
    "concate_attention  = Concatenate()(attentions)\n",
    "flatten = Flatten()(concate_attention)\n",
    "\n",
    "# __________________ #\n",
    "\n",
    "## FFNN\n",
    "b1_x =  Dense(2*MAXLEN, activation='relu', name='CONSTRUCTIVENESS_DENSE')(flatten)\n",
    "b1_x = Dropout(0.2)(b1_x)\n",
    "b1_x =  Dense(MAXLEN, activation='relu', name='CONSTRUCTIVENESS_DENSE_1')(b1_x)\n",
    "b1_x = Dropout(0.2)(b1_x)\n",
    "category_output = Dense(CONSTRUCTIVENESS_LEVELS, activation='softmax', name='CONSTRUCTIVENESS_OUTPUT')(b1_x)\n",
    "\n",
    "\n",
    "model = Model(inputs=embed, outputs= category_output)"
   ]
  },
  {
   "cell_type": "markdown",
   "id": "b54fa92e",
   "metadata": {
    "papermill": {
     "duration": 0.014201,
     "end_time": "2022-12-26T17:17:02.808411",
     "exception": false,
     "start_time": "2022-12-26T17:17:02.794210",
     "status": "completed"
    },
    "tags": []
   },
   "source": [
    "## COMPILE MODEL"
   ]
  },
  {
   "cell_type": "code",
   "execution_count": null,
   "id": "f5842279",
   "metadata": {
    "execution": {
     "iopub.execute_input": "2022-12-26T17:17:02.838476Z",
     "iopub.status.busy": "2022-12-26T17:17:02.838131Z",
     "iopub.status.idle": "2022-12-26T17:17:02.863902Z",
     "shell.execute_reply": "2022-12-26T17:17:02.861783Z"
    },
    "papermill": {
     "duration": 0.043555,
     "end_time": "2022-12-26T17:17:02.866273",
     "exception": false,
     "start_time": "2022-12-26T17:17:02.822718",
     "status": "completed"
    },
    "tags": []
   },
   "outputs": [],
   "source": [
    "loss ='categorical_crossentropy' \n",
    "\n",
    "model.compile(loss= loss,\n",
    "                optimizer='adam', \n",
    "                metrics=['accuracy']) \n",
    "\n",
    "\n",
    "model.summary()\n"
   ]
  },
  {
   "cell_type": "code",
   "execution_count": null,
   "id": "904fbe1c",
   "metadata": {
    "execution": {
     "iopub.execute_input": "2022-12-26T17:17:02.895939Z",
     "iopub.status.busy": "2022-12-26T17:17:02.895613Z",
     "iopub.status.idle": "2022-12-26T17:17:04.082830Z",
     "shell.execute_reply": "2022-12-26T17:17:04.081697Z"
    },
    "papermill": {
     "duration": 1.20416,
     "end_time": "2022-12-26T17:17:04.085180",
     "exception": false,
     "start_time": "2022-12-26T17:17:02.881020",
     "status": "completed"
    },
    "tags": []
   },
   "outputs": [],
   "source": [
    "tf.keras.utils.plot_model(model, to_file='single-task_model.png', show_shapes=True)"
   ]
  },
  {
   "cell_type": "markdown",
   "id": "1d77fb51",
   "metadata": {
    "papermill": {
     "duration": 0.014624,
     "end_time": "2022-12-26T17:17:04.115387",
     "exception": false,
     "start_time": "2022-12-26T17:17:04.100763",
     "status": "completed"
    },
    "tags": []
   },
   "source": [
    "## TRAIN MODEL"
   ]
  },
  {
   "cell_type": "code",
   "execution_count": null,
   "id": "1b7e086c",
   "metadata": {
    "execution": {
     "iopub.execute_input": "2022-12-26T17:17:04.147239Z",
     "iopub.status.busy": "2022-12-26T17:17:04.146288Z",
     "iopub.status.idle": "2022-12-26T17:17:04.521183Z",
     "shell.execute_reply": "2022-12-26T17:17:04.518691Z"
    },
    "papermill": {
     "duration": 0.392765,
     "end_time": "2022-12-26T17:17:04.522923",
     "exception": true,
     "start_time": "2022-12-26T17:17:04.130158",
     "status": "failed"
    },
    "tags": []
   },
   "outputs": [],
   "source": [
    "# INCLUDE THIS CODE IF KAGGLE IS THROWING RUN-TIME ERROR\n",
    "\n",
    "physical_devices = tf.config.list_physical_devices('GPU') \n",
    "for device in physical_devices:\n",
    "    tf.config.experimental.set_memory_growth(device, True)"
   ]
  },
  {
   "cell_type": "code",
   "execution_count": null,
   "id": "0109bbe9",
   "metadata": {
    "execution": {
     "iopub.execute_input": "2022-12-26T16:31:19.793931Z",
     "iopub.status.busy": "2022-12-26T16:31:19.793460Z",
     "iopub.status.idle": "2022-12-26T16:32:54.869653Z",
     "shell.execute_reply": "2022-12-26T16:32:54.868743Z",
     "shell.execute_reply.started": "2022-12-26T16:31:19.793891Z"
    },
    "papermill": {
     "duration": null,
     "end_time": null,
     "exception": null,
     "start_time": null,
     "status": "pending"
    },
    "tags": []
   },
   "outputs": [],
   "source": [
    "# SINGLE-TASK MODEL\n",
    "\n",
    "history = model.fit(train_embeds, \n",
    "                    y = y_train[constructive_labels].values,  \n",
    "                    validation_data = (test_embeds, y_test[constructive_labels].values),\n",
    "                   epochs = EPOCHS,\n",
    "                   shuffle=True,\n",
    "                   verbose=2\n",
    "                )\n"
   ]
  },
  {
   "cell_type": "code",
   "execution_count": null,
   "id": "70e7a9c3",
   "metadata": {
    "execution": {
     "iopub.execute_input": "2022-12-26T16:32:54.871230Z",
     "iopub.status.busy": "2022-12-26T16:32:54.870901Z",
     "iopub.status.idle": "2022-12-26T16:32:55.081860Z",
     "shell.execute_reply": "2022-12-26T16:32:55.080954Z",
     "shell.execute_reply.started": "2022-12-26T16:32:54.871201Z"
    },
    "papermill": {
     "duration": null,
     "end_time": null,
     "exception": null,
     "start_time": null,
     "status": "pending"
    },
    "tags": []
   },
   "outputs": [],
   "source": [
    "# SAVE MODEL\n",
    "model.save(SAVE_PATH, overwrite=True, save_format=\"tf\")\n",
    "print(\"Weights Saved\")"
   ]
  },
  {
   "cell_type": "code",
   "execution_count": null,
   "id": "950369bd",
   "metadata": {
    "execution": {
     "iopub.execute_input": "2022-12-26T16:32:55.083717Z",
     "iopub.status.busy": "2022-12-26T16:32:55.083137Z",
     "iopub.status.idle": "2022-12-26T16:32:57.275730Z",
     "shell.execute_reply": "2022-12-26T16:32:57.274693Z",
     "shell.execute_reply.started": "2022-12-26T16:32:55.083682Z"
    },
    "papermill": {
     "duration": null,
     "end_time": null,
     "exception": null,
     "start_time": null,
     "status": "pending"
    },
    "tags": []
   },
   "outputs": [],
   "source": [
    "# LOAD MODEL\n",
    "from keras.models import load_model\n",
    "LOAD_PATH = SAVE_PATH\n",
    "model = load_model(LOAD_PATH, custom_objects={'Attention': Attention})\n",
    "\n",
    "print(\"MODEL LOADED\\n\\n\")\n",
    "\n",
    "# SINGLE-TASK MODEL\n",
    "model.evaluate(test_embeds,y_test[constructive_labels].values)"
   ]
  },
  {
   "cell_type": "markdown",
   "id": "67ee8b0e",
   "metadata": {
    "papermill": {
     "duration": null,
     "end_time": null,
     "exception": null,
     "start_time": null,
     "status": "pending"
    },
    "tags": []
   },
   "source": [
    "## ANALYSIS"
   ]
  },
  {
   "cell_type": "code",
   "execution_count": null,
   "id": "c8fd08ee",
   "metadata": {
    "execution": {
     "iopub.execute_input": "2022-12-26T16:32:57.278670Z",
     "iopub.status.busy": "2022-12-26T16:32:57.277716Z",
     "iopub.status.idle": "2022-12-26T16:32:57.286778Z",
     "shell.execute_reply": "2022-12-26T16:32:57.285576Z",
     "shell.execute_reply.started": "2022-12-26T16:32:57.278620Z"
    },
    "papermill": {
     "duration": null,
     "end_time": null,
     "exception": null,
     "start_time": null,
     "status": "pending"
    },
    "tags": []
   },
   "outputs": [],
   "source": [
    "history.history.keys()"
   ]
  },
  {
   "cell_type": "markdown",
   "id": "52479bd1",
   "metadata": {
    "papermill": {
     "duration": null,
     "end_time": null,
     "exception": null,
     "start_time": null,
     "status": "pending"
    },
    "tags": []
   },
   "source": [
    "## VALIDATION"
   ]
  },
  {
   "cell_type": "code",
   "execution_count": null,
   "id": "3de25548",
   "metadata": {
    "execution": {
     "iopub.execute_input": "2022-12-26T16:32:57.289260Z",
     "iopub.status.busy": "2022-12-26T16:32:57.288644Z",
     "iopub.status.idle": "2022-12-26T16:32:57.299603Z",
     "shell.execute_reply": "2022-12-26T16:32:57.298282Z",
     "shell.execute_reply.started": "2022-12-26T16:32:57.289217Z"
    },
    "papermill": {
     "duration": null,
     "end_time": null,
     "exception": null,
     "start_time": null,
     "status": "pending"
    },
    "tags": []
   },
   "outputs": [],
   "source": [
    "metrics_keys = list(history.history.keys())\n",
    "\n",
    "loss = history.history[metrics_keys[0]]\n",
    "acc = history.history[metrics_keys[1]]\n",
    "val_loss = history.history[metrics_keys[2]]\n",
    "val_accuracy = history.history[metrics_keys[3]]\n",
    "\n",
    "\n",
    "print(\"\\nACCURACY : \" ,acc)\n",
    "print(\"\\nVAL ACCURACY : \" ,val_accuracy)\n",
    "print(\"\\nLOSS : \" , loss)\n",
    "print(\"\\nVAL LOSS : \" , val_loss)"
   ]
  },
  {
   "cell_type": "code",
   "execution_count": null,
   "id": "b6961d40",
   "metadata": {
    "execution": {
     "iopub.execute_input": "2022-12-26T16:32:57.302173Z",
     "iopub.status.busy": "2022-12-26T16:32:57.301683Z",
     "iopub.status.idle": "2022-12-26T16:32:57.843455Z",
     "shell.execute_reply": "2022-12-26T16:32:57.842599Z",
     "shell.execute_reply.started": "2022-12-26T16:32:57.302125Z"
    },
    "papermill": {
     "duration": null,
     "end_time": null,
     "exception": null,
     "start_time": null,
     "status": "pending"
    },
    "tags": []
   },
   "outputs": [],
   "source": [
    "metrics = history.history['loss']\n",
    "epochs_range = range(1, len(metrics) + 1) \n",
    "xticks = range(1, len(metrics) + 1, 2)\n",
    "\n",
    "plt.figure(figsize=(15, 30))\n",
    "\n",
    "# Train vs Val Acc \n",
    "plt.subplot(2, 1, 1)\n",
    "plt.plot(epochs_range, loss, label='Training Loss')\n",
    "plt.plot(epochs_range, val_loss, label='Validation Loss')\n",
    "plt.title('Politeness Training vs Validation Loss', fontsize=20)\n",
    "plt.xticks(xticks)\n",
    "plt.xlabel('Epochs', fontsize=19, labelpad=20)\n",
    "plt.ylabel('Loss', fontsize=19, labelpad=20)\n",
    "\n",
    "plt.tick_params(axis='both', which='major', labelsize=15)\n",
    "plt.legend(fontsize=17, loc='upper right')\n",
    "\n",
    "\n",
    "# Train vs Val Loss \n",
    "plt.subplot(2, 1, 2)\n",
    "plt.plot(epochs_range, acc, label='Training Accuracy')\n",
    "plt.plot(epochs_range, val_accuracy, label='Validation Accuracy')\n",
    "plt.title('Politeness Training vs Validation Accuracy', fontsize=20)\n",
    "plt.xlabel('Epochs', fontsize=19, labelpad=20)\n",
    "plt.ylabel('Loss', fontsize=19, labelpad=20)\n",
    "plt.xticks(xticks)\n",
    "plt.tick_params(axis='both', which='major', labelsize=15)\n",
    "plt.legend(fontsize=17, loc='lower right')\n",
    "\n",
    "\n",
    "plt.show()"
   ]
  },
  {
   "cell_type": "code",
   "execution_count": null,
   "id": "bc116ab6",
   "metadata": {
    "execution": {
     "iopub.execute_input": "2022-12-26T16:32:57.846399Z",
     "iopub.status.busy": "2022-12-26T16:32:57.845081Z",
     "iopub.status.idle": "2022-12-26T16:32:59.137335Z",
     "shell.execute_reply": "2022-12-26T16:32:59.136351Z",
     "shell.execute_reply.started": "2022-12-26T16:32:57.846348Z"
    },
    "papermill": {
     "duration": null,
     "end_time": null,
     "exception": null,
     "start_time": null,
     "status": "pending"
    },
    "tags": []
   },
   "outputs": [],
   "source": [
    "# POLITENESS\n",
    "\n",
    "## TEST\n",
    "y_pred_test = model.predict(test_embeds)\n",
    "y_pred_test_cons_idx = np.argmax(y_pred_test, axis=1)\n",
    "y_test_true_cons_idx =np.argmax(y_test[constructive_labels].values, axis=1)\n",
    "\n",
    "\n",
    "## VAL\n",
    "y_pred_val = model.predict(val_embeds)\n",
    "y_pred_val_cons_idx = np.argmax(y_pred_val, axis=1)\n",
    "y_val_true_cons_idx =np.argmax(y_val[constructive_labels].values, axis=1)"
   ]
  },
  {
   "cell_type": "code",
   "execution_count": null,
   "id": "06b76cca",
   "metadata": {
    "execution": {
     "iopub.execute_input": "2022-12-26T16:32:59.139006Z",
     "iopub.status.busy": "2022-12-26T16:32:59.138716Z",
     "iopub.status.idle": "2022-12-26T16:32:59.215443Z",
     "shell.execute_reply": "2022-12-26T16:32:59.214591Z",
     "shell.execute_reply.started": "2022-12-26T16:32:59.138979Z"
    },
    "papermill": {
     "duration": null,
     "end_time": null,
     "exception": null,
     "start_time": null,
     "status": "pending"
    },
    "tags": []
   },
   "outputs": [],
   "source": [
    "# CONFUSION MATRIX\n",
    "import seaborn as sns\n",
    "from sklearn.metrics import confusion_matrix as cm\n",
    "\n",
    "cm_cons_test = cm(y_test_true_cons_idx, y_pred_test_cons_idx)\n",
    "cm_cons_val = cm(y_val_true_cons_idx, y_pred_val_cons_idx)\n"
   ]
  },
  {
   "cell_type": "code",
   "execution_count": null,
   "id": "6c05dbbd",
   "metadata": {
    "execution": {
     "iopub.execute_input": "2022-12-26T16:32:59.221717Z",
     "iopub.status.busy": "2022-12-26T16:32:59.220331Z",
     "iopub.status.idle": "2022-12-26T16:32:59.231848Z",
     "shell.execute_reply": "2022-12-26T16:32:59.230860Z",
     "shell.execute_reply.started": "2022-12-26T16:32:59.221663Z"
    },
    "papermill": {
     "duration": null,
     "end_time": null,
     "exception": null,
     "start_time": null,
     "status": "pending"
    },
    "tags": []
   },
   "outputs": [],
   "source": [
    "# CLASS-WISE ACCURACY\n",
    "\n",
    "## CONSTRUCTIVENESS\n",
    "cm_cons_test_acc = cm_cons_test.astype('float') / cm_cons_test.sum(axis=1)[:, np.newaxis]\n",
    "cm_cons_test_acc =cm_cons_test_acc.diagonal()\n",
    "\n",
    "cm_cons_val_acc = cm_cons_val.astype('float') / cm_cons_val.sum(axis=1)[:, np.newaxis]\n",
    "cm_cons_val_acc =cm_cons_val_acc.diagonal()\n",
    "\n",
    "\n",
    "# ------------------------ #\n",
    "\n",
    "# TEST\n",
    "print('*** CLASS-WISE  TEST ACCURACY : **** \\n')\n",
    "print(\"CLASS\\tACCURACY\")\n",
    "for cat, acc in zip(constructive_labels, cm_cons_test_acc):\n",
    "    print('',cat,\"\\t\",round(acc, 3)) \n",
    "\n",
    "# ------------------------ #\n",
    "\n",
    "# VAL    \n",
    "\n",
    "print('\\n\\n*** CLASS-WISE  VAL ACCURACY : **** \\n')\n",
    "print(\"\\nCLASS\\tACCURACY\")\n",
    "for cat, acc in zip(constructive_labels, cm_cons_val_acc):\n",
    "    print('',cat,\"\\t\",round(acc, 3))\n",
    "    "
   ]
  },
  {
   "cell_type": "code",
   "execution_count": null,
   "id": "dcf5063c",
   "metadata": {
    "execution": {
     "iopub.execute_input": "2022-12-26T16:32:59.233959Z",
     "iopub.status.busy": "2022-12-26T16:32:59.233180Z",
     "iopub.status.idle": "2022-12-26T16:32:59.242972Z",
     "shell.execute_reply": "2022-12-26T16:32:59.242039Z",
     "shell.execute_reply.started": "2022-12-26T16:32:59.233923Z"
    },
    "papermill": {
     "duration": null,
     "end_time": null,
     "exception": null,
     "start_time": null,
     "status": "pending"
    },
    "tags": []
   },
   "outputs": [],
   "source": [
    "def plotHeatmap(cm, branch, data_type, labels):\n",
    "    plt.figure(figsize=(25, 10))\n",
    "    sns.heatmap(cm, square=True, annot=True, cmap='Blues', fmt='d', cbar=True, yticklabels=labels, xticklabels=labels)\n",
    "    plt.xlabel('Predicted Values', fontsize=20, labelpad=20)\n",
    "    plt.ylabel('Actual Values', fontsize=20, labelpad=20)\n",
    "    title = branch+' Confusion Matrix for '+data_type+' Data'\n",
    "    plt.title(title, fontsize=20)\n",
    "    plt.tick_params(axis='both', which='major', labelsize=15)\n",
    "    plt.show()"
   ]
  },
  {
   "cell_type": "code",
   "execution_count": null,
   "id": "276fa051",
   "metadata": {
    "execution": {
     "iopub.execute_input": "2022-12-26T16:32:59.244757Z",
     "iopub.status.busy": "2022-12-26T16:32:59.244212Z",
     "iopub.status.idle": "2022-12-26T16:32:59.612974Z",
     "shell.execute_reply": "2022-12-26T16:32:59.611623Z",
     "shell.execute_reply.started": "2022-12-26T16:32:59.244724Z"
    },
    "papermill": {
     "duration": null,
     "end_time": null,
     "exception": null,
     "start_time": null,
     "status": "pending"
    },
    "tags": []
   },
   "outputs": [],
   "source": [
    "plotHeatmap(cm_cons_test, 'Constructiveness', 'Testing', constructive_labels)"
   ]
  },
  {
   "cell_type": "code",
   "execution_count": null,
   "id": "1434bc60",
   "metadata": {
    "execution": {
     "iopub.execute_input": "2022-12-26T16:32:59.615751Z",
     "iopub.status.busy": "2022-12-26T16:32:59.614979Z",
     "iopub.status.idle": "2022-12-26T16:32:59.964790Z",
     "shell.execute_reply": "2022-12-26T16:32:59.963549Z",
     "shell.execute_reply.started": "2022-12-26T16:32:59.615700Z"
    },
    "papermill": {
     "duration": null,
     "end_time": null,
     "exception": null,
     "start_time": null,
     "status": "pending"
    },
    "tags": []
   },
   "outputs": [],
   "source": [
    "plotHeatmap(cm_cons_val, 'Constructiveness', 'Validation', constructive_labels)"
   ]
  },
  {
   "cell_type": "markdown",
   "id": "0bc653b4",
   "metadata": {
    "papermill": {
     "duration": null,
     "end_time": null,
     "exception": null,
     "start_time": null,
     "status": "pending"
    },
    "tags": []
   },
   "source": [
    "--------------"
   ]
  },
  {
   "cell_type": "code",
   "execution_count": null,
   "id": "478a8d50",
   "metadata": {
    "execution": {
     "iopub.execute_input": "2022-12-26T16:32:59.966939Z",
     "iopub.status.busy": "2022-12-26T16:32:59.966305Z",
     "iopub.status.idle": "2022-12-26T16:32:59.973655Z",
     "shell.execute_reply": "2022-12-26T16:32:59.972596Z",
     "shell.execute_reply.started": "2022-12-26T16:32:59.966900Z"
    },
    "papermill": {
     "duration": null,
     "end_time": null,
     "exception": null,
     "start_time": null,
     "status": "pending"
    },
    "tags": []
   },
   "outputs": [],
   "source": [
    "from pretty_confusion_matrix import pp_matrix\n",
    "\n",
    "def customCM(cm, labels):\n",
    "    df_cm = pd.DataFrame(cm, index=labels, columns=labels)\n",
    "    cmap = 'PuRd'\n",
    "    pp_matrix(df_cm, cmap=cmap)"
   ]
  },
  {
   "cell_type": "code",
   "execution_count": null,
   "id": "e5ac252b",
   "metadata": {
    "execution": {
     "iopub.execute_input": "2022-12-26T16:32:59.976086Z",
     "iopub.status.busy": "2022-12-26T16:32:59.975184Z",
     "iopub.status.idle": "2022-12-26T16:33:00.592962Z",
     "shell.execute_reply": "2022-12-26T16:33:00.592103Z",
     "shell.execute_reply.started": "2022-12-26T16:32:59.976035Z"
    },
    "papermill": {
     "duration": null,
     "end_time": null,
     "exception": null,
     "start_time": null,
     "status": "pending"
    },
    "tags": []
   },
   "outputs": [],
   "source": [
    "customCM(cm_cons_test, constructive_labels)"
   ]
  },
  {
   "cell_type": "code",
   "execution_count": null,
   "id": "f16799df",
   "metadata": {
    "execution": {
     "iopub.execute_input": "2022-12-26T16:33:00.595114Z",
     "iopub.status.busy": "2022-12-26T16:33:00.594474Z",
     "iopub.status.idle": "2022-12-26T16:33:01.143212Z",
     "shell.execute_reply": "2022-12-26T16:33:01.142046Z",
     "shell.execute_reply.started": "2022-12-26T16:33:00.595074Z"
    },
    "papermill": {
     "duration": null,
     "end_time": null,
     "exception": null,
     "start_time": null,
     "status": "pending"
    },
    "tags": []
   },
   "outputs": [],
   "source": [
    "customCM(cm_cons_val, constructive_labels)"
   ]
  },
  {
   "cell_type": "code",
   "execution_count": null,
   "id": "fad89b33",
   "metadata": {
    "execution": {
     "iopub.execute_input": "2022-12-26T16:33:01.144984Z",
     "iopub.status.busy": "2022-12-26T16:33:01.144592Z",
     "iopub.status.idle": "2022-12-26T16:33:01.151089Z",
     "shell.execute_reply": "2022-12-26T16:33:01.150114Z",
     "shell.execute_reply.started": "2022-12-26T16:33:01.144948Z"
    },
    "papermill": {
     "duration": null,
     "end_time": null,
     "exception": null,
     "start_time": null,
     "status": "pending"
    },
    "tags": []
   },
   "outputs": [],
   "source": [
    "# CLASSIFICATION REPORT\n",
    "from sklearn.metrics import classification_report\n",
    "\n",
    "def class_report(y_test_true_idx, y_pred_test_idx,y_val_true_idx, y_pred_val_idx , labels):\n",
    "    print('\\n\\n**** TESTING ****\\n\\n', classification_report(y_test_true_idx, y_pred_test_idx, target_names=labels))\n",
    "    print('\\n\\n**** VALIDATION ****\\n\\n',classification_report(y_val_true_idx, y_pred_val_idx , target_names=labels))"
   ]
  },
  {
   "cell_type": "code",
   "execution_count": null,
   "id": "0b99c7b1",
   "metadata": {
    "execution": {
     "iopub.execute_input": "2022-12-26T16:33:01.152963Z",
     "iopub.status.busy": "2022-12-26T16:33:01.152298Z",
     "iopub.status.idle": "2022-12-26T16:33:01.174045Z",
     "shell.execute_reply": "2022-12-26T16:33:01.173204Z",
     "shell.execute_reply.started": "2022-12-26T16:33:01.152903Z"
    },
    "papermill": {
     "duration": null,
     "end_time": null,
     "exception": null,
     "start_time": null,
     "status": "pending"
    },
    "tags": []
   },
   "outputs": [],
   "source": [
    "class_report(y_test_true_cons_idx, y_pred_test_cons_idx, y_val_true_cons_idx, y_pred_val_cons_idx , constructive_labels)"
   ]
  },
  {
   "cell_type": "code",
   "execution_count": null,
   "id": "13b49dc4",
   "metadata": {
    "papermill": {
     "duration": null,
     "end_time": null,
     "exception": null,
     "start_time": null,
     "status": "pending"
    },
    "tags": []
   },
   "outputs": [],
   "source": []
  }
 ],
 "metadata": {
  "kernelspec": {
   "display_name": "Python 3",
   "language": "python",
   "name": "python3"
  },
  "language_info": {
   "codemirror_mode": {
    "name": "ipython",
    "version": 3
   },
   "file_extension": ".py",
   "mimetype": "text/x-python",
   "name": "python",
   "nbconvert_exporter": "python",
   "pygments_lexer": "ipython3",
   "version": "3.10.2 (v3.10.2:a58ebcc701, Jan 13 2022, 14:50:16) [Clang 13.0.0 (clang-1300.0.29.30)]"
  },
  "papermill": {
   "default_parameters": {},
   "duration": 83.354334,
   "end_time": "2022-12-26T17:17:07.985423",
   "environment_variables": {},
   "exception": true,
   "input_path": "__notebook__.ipynb",
   "output_path": "__notebook__.ipynb",
   "parameters": {},
   "start_time": "2022-12-26T17:15:44.631089",
   "version": "2.3.4"
  },
  "vscode": {
   "interpreter": {
    "hash": "aee8b7b246df8f9039afb4144a1f6fd8d2ca17a180786b69acc140d282b71a49"
   }
  }
 },
 "nbformat": 4,
 "nbformat_minor": 5
}
